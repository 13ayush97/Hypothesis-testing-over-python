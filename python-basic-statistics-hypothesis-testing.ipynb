{
 "cells": [
  {
   "cell_type": "code",
   "execution_count": 1,
   "id": "c391909b",
   "metadata": {
    "execution": {
     "iopub.execute_input": "2023-03-29T04:24:17.225997Z",
     "iopub.status.busy": "2023-03-29T04:24:17.224873Z",
     "iopub.status.idle": "2023-03-29T04:24:18.246514Z",
     "shell.execute_reply": "2023-03-29T04:24:18.245148Z"
    },
    "papermill": {
     "duration": 1.045768,
     "end_time": "2023-03-29T04:24:18.249142",
     "exception": false,
     "start_time": "2023-03-29T04:24:17.203374",
     "status": "completed"
    },
    "tags": []
   },
   "outputs": [],
   "source": [
    "import numpy as np\n",
    "import pandas as pd\n",
    "import scipy.stats as stats \n",
    "import seaborn as sns\n",
    "import matplotlib.pyplot as plt"
   ]
  },
  {
   "cell_type": "markdown",
   "id": "280270c4",
   "metadata": {
    "papermill": {
     "duration": 0.017087,
     "end_time": "2023-03-29T04:24:18.284293",
     "exception": false,
     "start_time": "2023-03-29T04:24:18.267206",
     "status": "completed"
    },
    "tags": []
   },
   "source": [
    "# #BUSINESS PROBLEM 1"
   ]
  },
  {
   "cell_type": "code",
   "execution_count": 2,
   "id": "9a37e743",
   "metadata": {
    "execution": {
     "iopub.execute_input": "2023-03-29T04:24:18.320818Z",
     "iopub.status.busy": "2023-03-29T04:24:18.320436Z",
     "iopub.status.idle": "2023-03-29T04:24:18.350370Z",
     "shell.execute_reply": "2023-03-29T04:24:18.349425Z"
    },
    "papermill": {
     "duration": 0.050977,
     "end_time": "2023-03-29T04:24:18.352681",
     "exception": false,
     "start_time": "2023-03-29T04:24:18.301704",
     "status": "completed"
    },
    "tags": []
   },
   "outputs": [],
   "source": [
    "# importing the data\n",
    "loan_data=pd.read_csv(\"/kaggle/input/python-case-study-5-hypothesis-testing/LoansData.csv\")"
   ]
  },
  {
   "cell_type": "code",
   "execution_count": 3,
   "id": "0d57107a",
   "metadata": {
    "execution": {
     "iopub.execute_input": "2023-03-29T04:24:18.388987Z",
     "iopub.status.busy": "2023-03-29T04:24:18.388301Z",
     "iopub.status.idle": "2023-03-29T04:24:18.425888Z",
     "shell.execute_reply": "2023-03-29T04:24:18.424600Z"
    },
    "papermill": {
     "duration": 0.057892,
     "end_time": "2023-03-29T04:24:18.427859",
     "exception": false,
     "start_time": "2023-03-29T04:24:18.369967",
     "status": "completed"
    },
    "scrolled": true,
    "tags": []
   },
   "outputs": [
    {
     "data": {
      "text/html": [
       "<div>\n",
       "<style scoped>\n",
       "    .dataframe tbody tr th:only-of-type {\n",
       "        vertical-align: middle;\n",
       "    }\n",
       "\n",
       "    .dataframe tbody tr th {\n",
       "        vertical-align: top;\n",
       "    }\n",
       "\n",
       "    .dataframe thead th {\n",
       "        text-align: right;\n",
       "    }\n",
       "</style>\n",
       "<table border=\"1\" class=\"dataframe\">\n",
       "  <thead>\n",
       "    <tr style=\"text-align: right;\">\n",
       "      <th></th>\n",
       "      <th>Amount.Requested</th>\n",
       "      <th>Amount.Funded.By.Investors</th>\n",
       "      <th>Interest.Rate</th>\n",
       "      <th>Loan.Length</th>\n",
       "      <th>Loan.Purpose</th>\n",
       "      <th>Debt.To.Income.Ratio</th>\n",
       "      <th>State</th>\n",
       "      <th>Home.Ownership</th>\n",
       "      <th>Monthly.Income</th>\n",
       "      <th>FICO.Range</th>\n",
       "      <th>Open.CREDIT.Lines</th>\n",
       "      <th>Revolving.CREDIT.Balance</th>\n",
       "      <th>Inquiries.in.the.Last.6.Months</th>\n",
       "      <th>Employment.Length</th>\n",
       "    </tr>\n",
       "  </thead>\n",
       "  <tbody>\n",
       "    <tr>\n",
       "      <th>0</th>\n",
       "      <td>20000.0</td>\n",
       "      <td>20000.00</td>\n",
       "      <td>8.90%</td>\n",
       "      <td>36 months</td>\n",
       "      <td>debt_consolidation</td>\n",
       "      <td>14.90%</td>\n",
       "      <td>SC</td>\n",
       "      <td>MORTGAGE</td>\n",
       "      <td>6541.67</td>\n",
       "      <td>735-739</td>\n",
       "      <td>14.0</td>\n",
       "      <td>14272.0</td>\n",
       "      <td>2.0</td>\n",
       "      <td>&lt; 1 year</td>\n",
       "    </tr>\n",
       "    <tr>\n",
       "      <th>1</th>\n",
       "      <td>19200.0</td>\n",
       "      <td>19200.00</td>\n",
       "      <td>12.12%</td>\n",
       "      <td>36 months</td>\n",
       "      <td>debt_consolidation</td>\n",
       "      <td>28.36%</td>\n",
       "      <td>TX</td>\n",
       "      <td>MORTGAGE</td>\n",
       "      <td>4583.33</td>\n",
       "      <td>715-719</td>\n",
       "      <td>12.0</td>\n",
       "      <td>11140.0</td>\n",
       "      <td>1.0</td>\n",
       "      <td>2 years</td>\n",
       "    </tr>\n",
       "    <tr>\n",
       "      <th>2</th>\n",
       "      <td>35000.0</td>\n",
       "      <td>35000.00</td>\n",
       "      <td>21.98%</td>\n",
       "      <td>60 months</td>\n",
       "      <td>debt_consolidation</td>\n",
       "      <td>23.81%</td>\n",
       "      <td>CA</td>\n",
       "      <td>MORTGAGE</td>\n",
       "      <td>11500.00</td>\n",
       "      <td>690-694</td>\n",
       "      <td>14.0</td>\n",
       "      <td>21977.0</td>\n",
       "      <td>1.0</td>\n",
       "      <td>2 years</td>\n",
       "    </tr>\n",
       "    <tr>\n",
       "      <th>3</th>\n",
       "      <td>10000.0</td>\n",
       "      <td>9975.00</td>\n",
       "      <td>9.99%</td>\n",
       "      <td>36 months</td>\n",
       "      <td>debt_consolidation</td>\n",
       "      <td>14.30%</td>\n",
       "      <td>KS</td>\n",
       "      <td>MORTGAGE</td>\n",
       "      <td>3833.33</td>\n",
       "      <td>695-699</td>\n",
       "      <td>10.0</td>\n",
       "      <td>9346.0</td>\n",
       "      <td>0.0</td>\n",
       "      <td>5 years</td>\n",
       "    </tr>\n",
       "    <tr>\n",
       "      <th>4</th>\n",
       "      <td>12000.0</td>\n",
       "      <td>12000.00</td>\n",
       "      <td>11.71%</td>\n",
       "      <td>36 months</td>\n",
       "      <td>credit_card</td>\n",
       "      <td>18.78%</td>\n",
       "      <td>NJ</td>\n",
       "      <td>RENT</td>\n",
       "      <td>3195.00</td>\n",
       "      <td>695-699</td>\n",
       "      <td>11.0</td>\n",
       "      <td>14469.0</td>\n",
       "      <td>0.0</td>\n",
       "      <td>9 years</td>\n",
       "    </tr>\n",
       "    <tr>\n",
       "      <th>...</th>\n",
       "      <td>...</td>\n",
       "      <td>...</td>\n",
       "      <td>...</td>\n",
       "      <td>...</td>\n",
       "      <td>...</td>\n",
       "      <td>...</td>\n",
       "      <td>...</td>\n",
       "      <td>...</td>\n",
       "      <td>...</td>\n",
       "      <td>...</td>\n",
       "      <td>...</td>\n",
       "      <td>...</td>\n",
       "      <td>...</td>\n",
       "      <td>...</td>\n",
       "    </tr>\n",
       "    <tr>\n",
       "      <th>2495</th>\n",
       "      <td>30000.0</td>\n",
       "      <td>29950.00</td>\n",
       "      <td>16.77%</td>\n",
       "      <td>60 months</td>\n",
       "      <td>debt_consolidation</td>\n",
       "      <td>19.23%</td>\n",
       "      <td>NY</td>\n",
       "      <td>MORTGAGE</td>\n",
       "      <td>9250.00</td>\n",
       "      <td>705-709</td>\n",
       "      <td>15.0</td>\n",
       "      <td>45880.0</td>\n",
       "      <td>1.0</td>\n",
       "      <td>8 years</td>\n",
       "    </tr>\n",
       "    <tr>\n",
       "      <th>2496</th>\n",
       "      <td>16000.0</td>\n",
       "      <td>16000.00</td>\n",
       "      <td>14.09%</td>\n",
       "      <td>60 months</td>\n",
       "      <td>home_improvement</td>\n",
       "      <td>21.54%</td>\n",
       "      <td>MD</td>\n",
       "      <td>OWN</td>\n",
       "      <td>8903.25</td>\n",
       "      <td>740-744</td>\n",
       "      <td>18.0</td>\n",
       "      <td>18898.0</td>\n",
       "      <td>1.0</td>\n",
       "      <td>10+ years</td>\n",
       "    </tr>\n",
       "    <tr>\n",
       "      <th>2497</th>\n",
       "      <td>10000.0</td>\n",
       "      <td>10000.00</td>\n",
       "      <td>13.99%</td>\n",
       "      <td>36 months</td>\n",
       "      <td>debt_consolidation</td>\n",
       "      <td>4.89%</td>\n",
       "      <td>PA</td>\n",
       "      <td>MORTGAGE</td>\n",
       "      <td>2166.67</td>\n",
       "      <td>680-684</td>\n",
       "      <td>4.0</td>\n",
       "      <td>4544.0</td>\n",
       "      <td>0.0</td>\n",
       "      <td>10+ years</td>\n",
       "    </tr>\n",
       "    <tr>\n",
       "      <th>2498</th>\n",
       "      <td>6000.0</td>\n",
       "      <td>6000.00</td>\n",
       "      <td>12.42%</td>\n",
       "      <td>36 months</td>\n",
       "      <td>major_purchase</td>\n",
       "      <td>16.66%</td>\n",
       "      <td>NJ</td>\n",
       "      <td>RENT</td>\n",
       "      <td>3500.00</td>\n",
       "      <td>675-679</td>\n",
       "      <td>8.0</td>\n",
       "      <td>7753.0</td>\n",
       "      <td>0.0</td>\n",
       "      <td>5 years</td>\n",
       "    </tr>\n",
       "    <tr>\n",
       "      <th>2499</th>\n",
       "      <td>9000.0</td>\n",
       "      <td>5242.75</td>\n",
       "      <td>13.79%</td>\n",
       "      <td>36 months</td>\n",
       "      <td>debt_consolidation</td>\n",
       "      <td>6.76%</td>\n",
       "      <td>NY</td>\n",
       "      <td>RENT</td>\n",
       "      <td>3875.00</td>\n",
       "      <td>670-674</td>\n",
       "      <td>7.0</td>\n",
       "      <td>7589.0</td>\n",
       "      <td>0.0</td>\n",
       "      <td>10+ years</td>\n",
       "    </tr>\n",
       "  </tbody>\n",
       "</table>\n",
       "<p>2500 rows × 14 columns</p>\n",
       "</div>"
      ],
      "text/plain": [
       "      Amount.Requested  Amount.Funded.By.Investors Interest.Rate Loan.Length  \\\n",
       "0              20000.0                    20000.00         8.90%   36 months   \n",
       "1              19200.0                    19200.00        12.12%   36 months   \n",
       "2              35000.0                    35000.00        21.98%   60 months   \n",
       "3              10000.0                     9975.00         9.99%   36 months   \n",
       "4              12000.0                    12000.00        11.71%   36 months   \n",
       "...                ...                         ...           ...         ...   \n",
       "2495           30000.0                    29950.00        16.77%   60 months   \n",
       "2496           16000.0                    16000.00        14.09%   60 months   \n",
       "2497           10000.0                    10000.00        13.99%   36 months   \n",
       "2498            6000.0                     6000.00        12.42%   36 months   \n",
       "2499            9000.0                     5242.75        13.79%   36 months   \n",
       "\n",
       "            Loan.Purpose Debt.To.Income.Ratio State Home.Ownership  \\\n",
       "0     debt_consolidation               14.90%    SC       MORTGAGE   \n",
       "1     debt_consolidation               28.36%    TX       MORTGAGE   \n",
       "2     debt_consolidation               23.81%    CA       MORTGAGE   \n",
       "3     debt_consolidation               14.30%    KS       MORTGAGE   \n",
       "4            credit_card               18.78%    NJ           RENT   \n",
       "...                  ...                  ...   ...            ...   \n",
       "2495  debt_consolidation               19.23%    NY       MORTGAGE   \n",
       "2496    home_improvement               21.54%    MD            OWN   \n",
       "2497  debt_consolidation                4.89%    PA       MORTGAGE   \n",
       "2498      major_purchase               16.66%    NJ           RENT   \n",
       "2499  debt_consolidation                6.76%    NY           RENT   \n",
       "\n",
       "      Monthly.Income FICO.Range  Open.CREDIT.Lines  Revolving.CREDIT.Balance  \\\n",
       "0            6541.67    735-739               14.0                   14272.0   \n",
       "1            4583.33    715-719               12.0                   11140.0   \n",
       "2           11500.00    690-694               14.0                   21977.0   \n",
       "3            3833.33    695-699               10.0                    9346.0   \n",
       "4            3195.00    695-699               11.0                   14469.0   \n",
       "...              ...        ...                ...                       ...   \n",
       "2495         9250.00    705-709               15.0                   45880.0   \n",
       "2496         8903.25    740-744               18.0                   18898.0   \n",
       "2497         2166.67    680-684                4.0                    4544.0   \n",
       "2498         3500.00    675-679                8.0                    7753.0   \n",
       "2499         3875.00    670-674                7.0                    7589.0   \n",
       "\n",
       "      Inquiries.in.the.Last.6.Months Employment.Length  \n",
       "0                                2.0          < 1 year  \n",
       "1                                1.0           2 years  \n",
       "2                                1.0           2 years  \n",
       "3                                0.0           5 years  \n",
       "4                                0.0           9 years  \n",
       "...                              ...               ...  \n",
       "2495                             1.0           8 years  \n",
       "2496                             1.0         10+ years  \n",
       "2497                             0.0         10+ years  \n",
       "2498                             0.0           5 years  \n",
       "2499                             0.0         10+ years  \n",
       "\n",
       "[2500 rows x 14 columns]"
      ]
     },
     "execution_count": 3,
     "metadata": {},
     "output_type": "execute_result"
    }
   ],
   "source": [
    "loan_data"
   ]
  },
  {
   "cell_type": "code",
   "execution_count": 4,
   "id": "b0335af3",
   "metadata": {
    "execution": {
     "iopub.execute_input": "2023-03-29T04:24:18.464525Z",
     "iopub.status.busy": "2023-03-29T04:24:18.464073Z",
     "iopub.status.idle": "2023-03-29T04:24:18.471586Z",
     "shell.execute_reply": "2023-03-29T04:24:18.470549Z"
    },
    "papermill": {
     "duration": 0.028238,
     "end_time": "2023-03-29T04:24:18.473533",
     "exception": false,
     "start_time": "2023-03-29T04:24:18.445295",
     "status": "completed"
    },
    "tags": []
   },
   "outputs": [
    {
     "data": {
      "text/plain": [
       "Amount.Requested                  float64\n",
       "Amount.Funded.By.Investors        float64\n",
       "Interest.Rate                      object\n",
       "Loan.Length                        object\n",
       "Loan.Purpose                       object\n",
       "Debt.To.Income.Ratio               object\n",
       "State                              object\n",
       "Home.Ownership                     object\n",
       "Monthly.Income                    float64\n",
       "FICO.Range                         object\n",
       "Open.CREDIT.Lines                 float64\n",
       "Revolving.CREDIT.Balance          float64\n",
       "Inquiries.in.the.Last.6.Months    float64\n",
       "Employment.Length                  object\n",
       "dtype: object"
      ]
     },
     "execution_count": 4,
     "metadata": {},
     "output_type": "execute_result"
    }
   ],
   "source": [
    "#checking the datatypes\n",
    "loan_data.dtypes"
   ]
  },
  {
   "cell_type": "code",
   "execution_count": 5,
   "id": "8ec9d769",
   "metadata": {
    "execution": {
     "iopub.execute_input": "2023-03-29T04:24:18.511263Z",
     "iopub.status.busy": "2023-03-29T04:24:18.509878Z",
     "iopub.status.idle": "2023-03-29T04:24:18.519672Z",
     "shell.execute_reply": "2023-03-29T04:24:18.518606Z"
    },
    "papermill": {
     "duration": 0.030382,
     "end_time": "2023-03-29T04:24:18.521494",
     "exception": false,
     "start_time": "2023-03-29T04:24:18.491112",
     "status": "completed"
    },
    "tags": []
   },
   "outputs": [
    {
     "data": {
      "text/plain": [
       "Amount.Requested                   1\n",
       "Amount.Funded.By.Investors         1\n",
       "Interest.Rate                      2\n",
       "Loan.Length                        0\n",
       "Loan.Purpose                       0\n",
       "Debt.To.Income.Ratio               1\n",
       "State                              0\n",
       "Home.Ownership                     1\n",
       "Monthly.Income                     1\n",
       "FICO.Range                         2\n",
       "Open.CREDIT.Lines                  3\n",
       "Revolving.CREDIT.Balance           3\n",
       "Inquiries.in.the.Last.6.Months     3\n",
       "Employment.Length                 77\n",
       "dtype: int64"
      ]
     },
     "execution_count": 5,
     "metadata": {},
     "output_type": "execute_result"
    }
   ],
   "source": [
    "loan_data.isna().sum()"
   ]
  },
  {
   "cell_type": "code",
   "execution_count": 6,
   "id": "a96ee4fc",
   "metadata": {
    "execution": {
     "iopub.execute_input": "2023-03-29T04:24:18.559943Z",
     "iopub.status.busy": "2023-03-29T04:24:18.559088Z",
     "iopub.status.idle": "2023-03-29T04:24:18.578692Z",
     "shell.execute_reply": "2023-03-29T04:24:18.577754Z"
    },
    "papermill": {
     "duration": 0.042228,
     "end_time": "2023-03-29T04:24:18.581453",
     "exception": false,
     "start_time": "2023-03-29T04:24:18.539225",
     "status": "completed"
    },
    "tags": []
   },
   "outputs": [
    {
     "data": {
      "text/plain": [
       "0"
      ]
     },
     "execution_count": 6,
     "metadata": {},
     "output_type": "execute_result"
    }
   ],
   "source": [
    "loan_data.duplicated().sum()"
   ]
  },
  {
   "cell_type": "code",
   "execution_count": 7,
   "id": "7220ec07",
   "metadata": {
    "execution": {
     "iopub.execute_input": "2023-03-29T04:24:18.618857Z",
     "iopub.status.busy": "2023-03-29T04:24:18.618465Z",
     "iopub.status.idle": "2023-03-29T04:24:18.629559Z",
     "shell.execute_reply": "2023-03-29T04:24:18.628494Z"
    },
    "papermill": {
     "duration": 0.032281,
     "end_time": "2023-03-29T04:24:18.631504",
     "exception": false,
     "start_time": "2023-03-29T04:24:18.599223",
     "status": "completed"
    },
    "tags": []
   },
   "outputs": [
    {
     "data": {
      "text/plain": [
       "Amount.Requested                   380\n",
       "Amount.Funded.By.Investors         710\n",
       "Interest.Rate                      275\n",
       "Loan.Length                          2\n",
       "Loan.Purpose                        14\n",
       "Debt.To.Income.Ratio              1669\n",
       "State                               46\n",
       "Home.Ownership                       5\n",
       "Monthly.Income                     632\n",
       "FICO.Range                          38\n",
       "Open.CREDIT.Lines                   29\n",
       "Revolving.CREDIT.Balance          2349\n",
       "Inquiries.in.the.Last.6.Months      10\n",
       "Employment.Length                   11\n",
       "dtype: int64"
      ]
     },
     "execution_count": 7,
     "metadata": {},
     "output_type": "execute_result"
    }
   ],
   "source": [
    "#checking for continuous or categorical variable\n",
    "loan_data.nunique()"
   ]
  },
  {
   "cell_type": "code",
   "execution_count": 8,
   "id": "06991f63",
   "metadata": {
    "execution": {
     "iopub.execute_input": "2023-03-29T04:24:18.669459Z",
     "iopub.status.busy": "2023-03-29T04:24:18.669003Z",
     "iopub.status.idle": "2023-03-29T04:24:18.676567Z",
     "shell.execute_reply": "2023-03-29T04:24:18.675704Z"
    },
    "papermill": {
     "duration": 0.028954,
     "end_time": "2023-03-29T04:24:18.678417",
     "exception": false,
     "start_time": "2023-03-29T04:24:18.649463",
     "status": "completed"
    },
    "tags": []
   },
   "outputs": [],
   "source": [
    "loan_data['Interest.Rate']=loan_data['Interest.Rate'].str.replace('%','')\n",
    "loan_data['Interest.Rate']=loan_data['Interest.Rate'].astype('float64')"
   ]
  },
  {
   "cell_type": "code",
   "execution_count": 9,
   "id": "3b34d029",
   "metadata": {
    "execution": {
     "iopub.execute_input": "2023-03-29T04:24:18.715848Z",
     "iopub.status.busy": "2023-03-29T04:24:18.715467Z",
     "iopub.status.idle": "2023-03-29T04:24:18.735041Z",
     "shell.execute_reply": "2023-03-29T04:24:18.733359Z"
    },
    "papermill": {
     "duration": 0.040711,
     "end_time": "2023-03-29T04:24:18.737076",
     "exception": false,
     "start_time": "2023-03-29T04:24:18.696365",
     "status": "completed"
    },
    "tags": []
   },
   "outputs": [
    {
     "name": "stdout",
     "output_type": "stream",
     "text": [
      "<class 'pandas.core.frame.DataFrame'>\n",
      "RangeIndex: 2500 entries, 0 to 2499\n",
      "Data columns (total 14 columns):\n",
      " #   Column                          Non-Null Count  Dtype  \n",
      "---  ------                          --------------  -----  \n",
      " 0   Amount.Requested                2499 non-null   float64\n",
      " 1   Amount.Funded.By.Investors      2499 non-null   float64\n",
      " 2   Interest.Rate                   2498 non-null   float64\n",
      " 3   Loan.Length                     2500 non-null   object \n",
      " 4   Loan.Purpose                    2500 non-null   object \n",
      " 5   Debt.To.Income.Ratio            2499 non-null   object \n",
      " 6   State                           2500 non-null   object \n",
      " 7   Home.Ownership                  2499 non-null   object \n",
      " 8   Monthly.Income                  2499 non-null   float64\n",
      " 9   FICO.Range                      2498 non-null   object \n",
      " 10  Open.CREDIT.Lines               2497 non-null   float64\n",
      " 11  Revolving.CREDIT.Balance        2497 non-null   float64\n",
      " 12  Inquiries.in.the.Last.6.Months  2497 non-null   float64\n",
      " 13  Employment.Length               2423 non-null   object \n",
      "dtypes: float64(7), object(7)\n",
      "memory usage: 273.6+ KB\n"
     ]
    }
   ],
   "source": [
    "loan_data.info()"
   ]
  },
  {
   "cell_type": "code",
   "execution_count": 10,
   "id": "2453a3e4",
   "metadata": {
    "execution": {
     "iopub.execute_input": "2023-03-29T04:24:18.774572Z",
     "iopub.status.busy": "2023-03-29T04:24:18.773960Z",
     "iopub.status.idle": "2023-03-29T04:24:18.782880Z",
     "shell.execute_reply": "2023-03-29T04:24:18.781802Z"
    },
    "papermill": {
     "duration": 0.029699,
     "end_time": "2023-03-29T04:24:18.784669",
     "exception": false,
     "start_time": "2023-03-29T04:24:18.754970",
     "status": "completed"
    },
    "tags": []
   },
   "outputs": [],
   "source": [
    "#first, we'll fill null values before further calculation\n",
    "loan_data['Interest.Rate'].fillna(loan_data['Interest.Rate'].mean(), inplace=True)\n",
    "loan_data['Amount.Requested'].fillna(loan_data['Amount.Requested'].mean(), inplace=True)\n",
    "loan_data['Amount.Funded.By.Investors'].fillna(loan_data['Amount.Funded.By.Investors'].mean(), inplace=True)\n",
    "loan_data['FICO.Range'].fillna('670-674', inplace=True)\n",
    "loan_data['Home.Ownership'].fillna('MORTGAGE', inplace=True)"
   ]
  },
  {
   "cell_type": "code",
   "execution_count": null,
   "id": "95968522",
   "metadata": {
    "papermill": {
     "duration": 0.017449,
     "end_time": "2023-03-29T04:24:18.820161",
     "exception": false,
     "start_time": "2023-03-29T04:24:18.802712",
     "status": "completed"
    },
    "tags": []
   },
   "outputs": [],
   "source": []
  },
  {
   "cell_type": "markdown",
   "id": "7da4ae0b",
   "metadata": {
    "papermill": {
     "duration": 0.017369,
     "end_time": "2023-03-29T04:24:18.855164",
     "exception": false,
     "start_time": "2023-03-29T04:24:18.837795",
     "status": "completed"
    },
    "tags": []
   },
   "source": [
    "### BUSINESS PROBLEM:\n",
    "**Using lending club loans data, the team would like to test below hypothesis on how different\n",
    "factors effecing each other (Hint: You may leverage hypothesis testing using statistical tests)**\n",
    "* ***a. Intrest rate is varied for different loan amounts (Less intrest charged for high loan amounts)***"
   ]
  },
  {
   "cell_type": "markdown",
   "id": "adfc7c08",
   "metadata": {
    "papermill": {
     "duration": 0.017344,
     "end_time": "2023-03-29T04:24:18.890141",
     "exception": false,
     "start_time": "2023-03-29T04:24:18.872797",
     "status": "completed"
    },
    "tags": []
   },
   "source": [
    "###  Ans.a),\n",
    "#### Step 1. Define null hypothesis , Ho:\n",
    "* ***Ho= Intrest rate does not vary for different loan amounts.(Less intrest is not charged for high loan amounts)***\n",
    "\n",
    "#### Step 2. Define null hypothesis , Ha:\n",
    "* ***Ha=  Intrest rate is varied for different loan amounts (Less intrest charged for high loan amounts).***\n",
    "\n",
    "#### Step 3. Define CI :\n",
    "* ***CI = 95% , pvalue =0.05***\n",
    "\n",
    "#### Step 4. Perform test:\n",
    "* ***Co-Relations (Pearson Co-efficient) as we have to find out the relationship between 2 continuous variables***"
   ]
  },
  {
   "cell_type": "code",
   "execution_count": 11,
   "id": "dc97a14b",
   "metadata": {
    "execution": {
     "iopub.execute_input": "2023-03-29T04:24:18.928980Z",
     "iopub.status.busy": "2023-03-29T04:24:18.928589Z",
     "iopub.status.idle": "2023-03-29T04:24:18.936871Z",
     "shell.execute_reply": "2023-03-29T04:24:18.935835Z"
    },
    "papermill": {
     "duration": 0.030339,
     "end_time": "2023-03-29T04:24:18.938859",
     "exception": false,
     "start_time": "2023-03-29T04:24:18.908520",
     "status": "completed"
    },
    "tags": []
   },
   "outputs": [
    {
     "data": {
      "text/plain": [
       "(0.33244640596656827, 1.4148683739824417e-65)"
      ]
     },
     "execution_count": 11,
     "metadata": {},
     "output_type": "execute_result"
    }
   ],
   "source": [
    "stats.pearsonr(loan_data['Interest.Rate'],loan_data['Amount.Requested'])"
   ]
  },
  {
   "cell_type": "markdown",
   "id": "0293b5c0",
   "metadata": {
    "papermill": {
     "duration": 0.01887,
     "end_time": "2023-03-29T04:24:18.976319",
     "exception": false,
     "start_time": "2023-03-29T04:24:18.957449",
     "status": "completed"
    },
    "tags": []
   },
   "source": [
    "#### Step 5. Business conclusion:\n",
    "* ***initial p-value= 0.05***\n",
    "* ***new p-value= 1.4148683739824417e-65***\n",
    "\n",
    "* **since new p-value< initial p-value , we will REJECT Ho with 95% accuracy.**\n",
    "* **Therefore, Intrest rate is varied for different loan amounts (Less intrest charged for high loan amounts).**"
   ]
  },
  {
   "cell_type": "markdown",
   "id": "0bfc660f",
   "metadata": {
    "papermill": {
     "duration": 0.01834,
     "end_time": "2023-03-29T04:24:19.013461",
     "exception": false,
     "start_time": "2023-03-29T04:24:18.995121",
     "status": "completed"
    },
    "tags": []
   },
   "source": [
    "### Q ***b. Loan length is directly effecting intrest rate.***"
   ]
  },
  {
   "cell_type": "markdown",
   "id": "aba883c6",
   "metadata": {
    "papermill": {
     "duration": 0.018773,
     "end_time": "2023-03-29T04:24:19.050853",
     "exception": false,
     "start_time": "2023-03-29T04:24:19.032080",
     "status": "completed"
    },
    "tags": []
   },
   "source": [
    "###  Ans.b),\n",
    "#### Step 1. Define null hypothesis , Ho:\n",
    "* ***Ho= Loan length is not effecting intrest rate.***\n",
    "\n",
    "#### Step 2. Define null hypothesis , Ha:\n",
    "* ***Ha= Loan length is directly effecting intrest rate..***\n",
    "\n",
    "#### Step 3. Define CI :\n",
    "* ***CI = 95% , pvalue =0.05***\n",
    "\n",
    "#### Step 4. Perform test:\n",
    "* ***we will perform the T-Test for independent two variable. as these are two different variable.***\n"
   ]
  },
  {
   "cell_type": "code",
   "execution_count": 12,
   "id": "45527974",
   "metadata": {
    "execution": {
     "iopub.execute_input": "2023-03-29T04:24:19.089672Z",
     "iopub.status.busy": "2023-03-29T04:24:19.089233Z",
     "iopub.status.idle": "2023-03-29T04:24:19.095531Z",
     "shell.execute_reply": "2023-03-29T04:24:19.094681Z"
    },
    "papermill": {
     "duration": 0.028072,
     "end_time": "2023-03-29T04:24:19.097259",
     "exception": false,
     "start_time": "2023-03-29T04:24:19.069187",
     "status": "completed"
    },
    "tags": []
   },
   "outputs": [],
   "source": [
    "a=loan_data.loc[loan_data[\"Loan.Length\"]=='36 months','Interest.Rate' ]\n",
    "b=loan_data.loc[loan_data[\"Loan.Length\"]=='60 months','Interest.Rate' ]"
   ]
  },
  {
   "cell_type": "code",
   "execution_count": 13,
   "id": "badf3120",
   "metadata": {
    "execution": {
     "iopub.execute_input": "2023-03-29T04:24:19.136000Z",
     "iopub.status.busy": "2023-03-29T04:24:19.135675Z",
     "iopub.status.idle": "2023-03-29T04:24:19.143669Z",
     "shell.execute_reply": "2023-03-29T04:24:19.142911Z"
    },
    "papermill": {
     "duration": 0.029461,
     "end_time": "2023-03-29T04:24:19.145733",
     "exception": false,
     "start_time": "2023-03-29T04:24:19.116272",
     "status": "completed"
    },
    "tags": []
   },
   "outputs": [
    {
     "data": {
      "text/plain": [
       "Ttest_indResult(statistic=-23.41049023613487, pvalue=9.549596064332559e-110)"
      ]
     },
     "execution_count": 13,
     "metadata": {},
     "output_type": "execute_result"
    }
   ],
   "source": [
    "stats.ttest_ind(a,b)"
   ]
  },
  {
   "cell_type": "markdown",
   "id": "4ff92ee0",
   "metadata": {
    "papermill": {
     "duration": 0.018729,
     "end_time": "2023-03-29T04:24:19.183378",
     "exception": false,
     "start_time": "2023-03-29T04:24:19.164649",
     "status": "completed"
    },
    "tags": []
   },
   "source": [
    "#### Step 5. Business conclusion:\n",
    "* ***initial p-value= 0.05***\n",
    "* ***new p-value= 9.549596064332559e-110***\n",
    "\n",
    "* **since new p-value< initial p-value , we will REJECT Ho.**\n",
    "* **Therefore, Loan length is directly effecting intrest rate.**"
   ]
  },
  {
   "cell_type": "markdown",
   "id": "de10de63",
   "metadata": {
    "papermill": {
     "duration": 0.018562,
     "end_time": "2023-03-29T04:24:19.220764",
     "exception": false,
     "start_time": "2023-03-29T04:24:19.202202",
     "status": "completed"
    },
    "tags": []
   },
   "source": [
    "### Q  ***c. Interest rate varies for different purpose of loans***"
   ]
  },
  {
   "cell_type": "markdown",
   "id": "90491771",
   "metadata": {
    "papermill": {
     "duration": 0.020652,
     "end_time": "2023-03-29T04:24:19.261113",
     "exception": false,
     "start_time": "2023-03-29T04:24:19.240461",
     "status": "completed"
    },
    "tags": []
   },
   "source": [
    "###  Ans.c),\n",
    "#### Step 1. Define null hypothesis , Ho:\n",
    "* ***Ho= Interest rate does not vary for different purpose of loans.***\n",
    "\n",
    "#### Step 2. Define null hypothesis , Ha:\n",
    "* ***Ha= Interest rate varies for different purpose of loans.***\n",
    "\n",
    "#### Step 3. Define CI :\n",
    "* ***CI = 95% , pvalue =0.05***\n",
    "\n",
    "#### Step 4. Perform test:\n",
    "* ***Co-Relations (Spearson Rank) as we have determine the relationship between categorical and continuous variable.***\n"
   ]
  },
  {
   "cell_type": "code",
   "execution_count": 14,
   "id": "f5a38ef8",
   "metadata": {
    "execution": {
     "iopub.execute_input": "2023-03-29T04:24:19.299173Z",
     "iopub.status.busy": "2023-03-29T04:24:19.298824Z",
     "iopub.status.idle": "2023-03-29T04:24:19.312582Z",
     "shell.execute_reply": "2023-03-29T04:24:19.311379Z"
    },
    "papermill": {
     "duration": 0.035707,
     "end_time": "2023-03-29T04:24:19.314643",
     "exception": false,
     "start_time": "2023-03-29T04:24:19.278936",
     "status": "completed"
    },
    "tags": []
   },
   "outputs": [
    {
     "data": {
      "text/plain": [
       "SpearmanrResult(correlation=-0.06035663579266386, pvalue=0.0025354766301471797)"
      ]
     },
     "execution_count": 14,
     "metadata": {},
     "output_type": "execute_result"
    }
   ],
   "source": [
    "stats.spearmanr(loan_data['Loan.Purpose'],loan_data['Interest.Rate'])"
   ]
  },
  {
   "cell_type": "markdown",
   "id": "106e7a0d",
   "metadata": {
    "papermill": {
     "duration": 0.018505,
     "end_time": "2023-03-29T04:24:19.352221",
     "exception": false,
     "start_time": "2023-03-29T04:24:19.333716",
     "status": "completed"
    },
    "tags": []
   },
   "source": [
    "#### Step 5. Business conclusion:\n",
    "* ***initial p-value= 0.05***\n",
    "* ***new p-value= 0.0025354766301471797***\n",
    "\n",
    "* **since new p-value< initial p-value , we will REJECT Ho.**\n",
    "* **Therefore, Interest rate varies for different purpose of loans.**"
   ]
  },
  {
   "cell_type": "markdown",
   "id": "1fb282bd",
   "metadata": {
    "papermill": {
     "duration": 0.018733,
     "end_time": "2023-03-29T04:24:19.389812",
     "exception": false,
     "start_time": "2023-03-29T04:24:19.371079",
     "status": "completed"
    },
    "tags": []
   },
   "source": [
    "### Q  ***d. There is relationship between FICO scores and Home Ownership. It means that, People with owning home will have high FICO scores.***"
   ]
  },
  {
   "cell_type": "markdown",
   "id": "b7c52a65",
   "metadata": {
    "papermill": {
     "duration": 0.019102,
     "end_time": "2023-03-29T04:24:19.428042",
     "exception": false,
     "start_time": "2023-03-29T04:24:19.408940",
     "status": "completed"
    },
    "tags": []
   },
   "source": [
    "###  Ans.d),\n",
    "#### Step 1. Define null hypothesis , Ho:\n",
    "* ***Ho= There is no relationship between FICO scores and Home Ownership.***\n",
    "\n",
    "#### Step 2. Define null hypothesis , Ha:\n",
    "* ***Ha= There is relationship between FICO scores and Home Ownership.***\n",
    "\n",
    "#### Step 3. Define CI :\n",
    "* ***CI = 95% , pvalue =0.05***\n",
    "\n",
    "#### Step 4. Perform test:\n",
    "* ***Chi-Sq test as we have to determine the relationship between 2 categorical variables***\n"
   ]
  },
  {
   "cell_type": "code",
   "execution_count": 15,
   "id": "7d9030e2",
   "metadata": {
    "execution": {
     "iopub.execute_input": "2023-03-29T04:24:19.467817Z",
     "iopub.status.busy": "2023-03-29T04:24:19.467450Z",
     "iopub.status.idle": "2023-03-29T04:24:19.510307Z",
     "shell.execute_reply": "2023-03-29T04:24:19.508884Z"
    },
    "papermill": {
     "duration": 0.064853,
     "end_time": "2023-03-29T04:24:19.512629",
     "exception": false,
     "start_time": "2023-03-29T04:24:19.447776",
     "status": "completed"
    },
    "tags": []
   },
   "outputs": [
    {
     "data": {
      "text/html": [
       "<div>\n",
       "<style scoped>\n",
       "    .dataframe tbody tr th:only-of-type {\n",
       "        vertical-align: middle;\n",
       "    }\n",
       "\n",
       "    .dataframe tbody tr th {\n",
       "        vertical-align: top;\n",
       "    }\n",
       "\n",
       "    .dataframe thead th {\n",
       "        text-align: right;\n",
       "    }\n",
       "</style>\n",
       "<table border=\"1\" class=\"dataframe\">\n",
       "  <thead>\n",
       "    <tr style=\"text-align: right;\">\n",
       "      <th>FICO.Range</th>\n",
       "      <th>640-644</th>\n",
       "      <th>645-649</th>\n",
       "      <th>650-654</th>\n",
       "      <th>655-659</th>\n",
       "      <th>660-664</th>\n",
       "      <th>665-669</th>\n",
       "      <th>670-674</th>\n",
       "      <th>675-679</th>\n",
       "      <th>680-684</th>\n",
       "      <th>685-689</th>\n",
       "      <th>...</th>\n",
       "      <th>780-784</th>\n",
       "      <th>785-789</th>\n",
       "      <th>790-794</th>\n",
       "      <th>795-799</th>\n",
       "      <th>800-804</th>\n",
       "      <th>805-809</th>\n",
       "      <th>810-814</th>\n",
       "      <th>815-819</th>\n",
       "      <th>820-824</th>\n",
       "      <th>830-834</th>\n",
       "    </tr>\n",
       "    <tr>\n",
       "      <th>Home.Ownership</th>\n",
       "      <th></th>\n",
       "      <th></th>\n",
       "      <th></th>\n",
       "      <th></th>\n",
       "      <th></th>\n",
       "      <th></th>\n",
       "      <th></th>\n",
       "      <th></th>\n",
       "      <th></th>\n",
       "      <th></th>\n",
       "      <th></th>\n",
       "      <th></th>\n",
       "      <th></th>\n",
       "      <th></th>\n",
       "      <th></th>\n",
       "      <th></th>\n",
       "      <th></th>\n",
       "      <th></th>\n",
       "      <th></th>\n",
       "      <th></th>\n",
       "      <th></th>\n",
       "    </tr>\n",
       "  </thead>\n",
       "  <tbody>\n",
       "    <tr>\n",
       "      <th>MORTGAGE</th>\n",
       "      <td>0</td>\n",
       "      <td>1</td>\n",
       "      <td>1</td>\n",
       "      <td>0</td>\n",
       "      <td>41</td>\n",
       "      <td>52</td>\n",
       "      <td>68</td>\n",
       "      <td>79</td>\n",
       "      <td>55</td>\n",
       "      <td>61</td>\n",
       "      <td>...</td>\n",
       "      <td>21</td>\n",
       "      <td>12</td>\n",
       "      <td>15</td>\n",
       "      <td>7</td>\n",
       "      <td>7</td>\n",
       "      <td>6</td>\n",
       "      <td>5</td>\n",
       "      <td>6</td>\n",
       "      <td>0</td>\n",
       "      <td>1</td>\n",
       "    </tr>\n",
       "    <tr>\n",
       "      <th>NONE</th>\n",
       "      <td>0</td>\n",
       "      <td>0</td>\n",
       "      <td>0</td>\n",
       "      <td>0</td>\n",
       "      <td>0</td>\n",
       "      <td>0</td>\n",
       "      <td>0</td>\n",
       "      <td>0</td>\n",
       "      <td>0</td>\n",
       "      <td>0</td>\n",
       "      <td>...</td>\n",
       "      <td>0</td>\n",
       "      <td>0</td>\n",
       "      <td>0</td>\n",
       "      <td>0</td>\n",
       "      <td>1</td>\n",
       "      <td>0</td>\n",
       "      <td>0</td>\n",
       "      <td>0</td>\n",
       "      <td>0</td>\n",
       "      <td>0</td>\n",
       "    </tr>\n",
       "    <tr>\n",
       "      <th>OTHER</th>\n",
       "      <td>0</td>\n",
       "      <td>0</td>\n",
       "      <td>0</td>\n",
       "      <td>1</td>\n",
       "      <td>0</td>\n",
       "      <td>0</td>\n",
       "      <td>1</td>\n",
       "      <td>1</td>\n",
       "      <td>2</td>\n",
       "      <td>0</td>\n",
       "      <td>...</td>\n",
       "      <td>0</td>\n",
       "      <td>0</td>\n",
       "      <td>0</td>\n",
       "      <td>0</td>\n",
       "      <td>0</td>\n",
       "      <td>0</td>\n",
       "      <td>0</td>\n",
       "      <td>0</td>\n",
       "      <td>0</td>\n",
       "      <td>0</td>\n",
       "    </tr>\n",
       "    <tr>\n",
       "      <th>OWN</th>\n",
       "      <td>1</td>\n",
       "      <td>0</td>\n",
       "      <td>0</td>\n",
       "      <td>0</td>\n",
       "      <td>17</td>\n",
       "      <td>18</td>\n",
       "      <td>13</td>\n",
       "      <td>11</td>\n",
       "      <td>9</td>\n",
       "      <td>10</td>\n",
       "      <td>...</td>\n",
       "      <td>3</td>\n",
       "      <td>2</td>\n",
       "      <td>1</td>\n",
       "      <td>1</td>\n",
       "      <td>3</td>\n",
       "      <td>2</td>\n",
       "      <td>1</td>\n",
       "      <td>0</td>\n",
       "      <td>1</td>\n",
       "      <td>0</td>\n",
       "    </tr>\n",
       "    <tr>\n",
       "      <th>RENT</th>\n",
       "      <td>4</td>\n",
       "      <td>2</td>\n",
       "      <td>0</td>\n",
       "      <td>3</td>\n",
       "      <td>67</td>\n",
       "      <td>75</td>\n",
       "      <td>91</td>\n",
       "      <td>75</td>\n",
       "      <td>91</td>\n",
       "      <td>65</td>\n",
       "      <td>...</td>\n",
       "      <td>4</td>\n",
       "      <td>5</td>\n",
       "      <td>4</td>\n",
       "      <td>5</td>\n",
       "      <td>2</td>\n",
       "      <td>3</td>\n",
       "      <td>2</td>\n",
       "      <td>0</td>\n",
       "      <td>0</td>\n",
       "      <td>0</td>\n",
       "    </tr>\n",
       "  </tbody>\n",
       "</table>\n",
       "<p>5 rows × 38 columns</p>\n",
       "</div>"
      ],
      "text/plain": [
       "FICO.Range      640-644  645-649  650-654  655-659  660-664  665-669  670-674  \\\n",
       "Home.Ownership                                                                  \n",
       "MORTGAGE              0        1        1        0       41       52       68   \n",
       "NONE                  0        0        0        0        0        0        0   \n",
       "OTHER                 0        0        0        1        0        0        1   \n",
       "OWN                   1        0        0        0       17       18       13   \n",
       "RENT                  4        2        0        3       67       75       91   \n",
       "\n",
       "FICO.Range      675-679  680-684  685-689  ...  780-784  785-789  790-794  \\\n",
       "Home.Ownership                             ...                              \n",
       "MORTGAGE             79       55       61  ...       21       12       15   \n",
       "NONE                  0        0        0  ...        0        0        0   \n",
       "OTHER                 1        2        0  ...        0        0        0   \n",
       "OWN                  11        9       10  ...        3        2        1   \n",
       "RENT                 75       91       65  ...        4        5        4   \n",
       "\n",
       "FICO.Range      795-799  800-804  805-809  810-814  815-819  820-824  830-834  \n",
       "Home.Ownership                                                                 \n",
       "MORTGAGE              7        7        6        5        6        0        1  \n",
       "NONE                  0        1        0        0        0        0        0  \n",
       "OTHER                 0        0        0        0        0        0        0  \n",
       "OWN                   1        3        2        1        0        1        0  \n",
       "RENT                  5        2        3        2        0        0        0  \n",
       "\n",
       "[5 rows x 38 columns]"
      ]
     },
     "execution_count": 15,
     "metadata": {},
     "output_type": "execute_result"
    }
   ],
   "source": [
    "c=pd.crosstab( loan_data['Home.Ownership'],loan_data['FICO.Range'] )\n",
    "c"
   ]
  },
  {
   "cell_type": "code",
   "execution_count": 16,
   "id": "70cd85b7",
   "metadata": {
    "execution": {
     "iopub.execute_input": "2023-03-29T04:24:19.552933Z",
     "iopub.status.busy": "2023-03-29T04:24:19.552581Z",
     "iopub.status.idle": "2023-03-29T04:24:19.560559Z",
     "shell.execute_reply": "2023-03-29T04:24:19.559836Z"
    },
    "papermill": {
     "duration": 0.030519,
     "end_time": "2023-03-29T04:24:19.562592",
     "exception": false,
     "start_time": "2023-03-29T04:24:19.532073",
     "status": "completed"
    },
    "tags": []
   },
   "outputs": [
    {
     "data": {
      "text/plain": [
       "(473.5648028168521,\n",
       " 1.0065160858471904e-35,\n",
       " 148,\n",
       " array([[2.29600e+00, 1.37760e+00, 4.59200e-01, 1.83680e+00, 5.74000e+01,\n",
       "         6.65840e+01, 7.94416e+01, 7.62272e+01, 7.20944e+01, 6.24512e+01,\n",
       "         6.42880e+01, 7.02576e+01, 6.01552e+01, 6.15328e+01, 5.14304e+01,\n",
       "         4.27056e+01, 5.23488e+01, 4.31648e+01, 4.31648e+01, 2.98480e+01,\n",
       "         2.43376e+01, 2.47968e+01, 2.80112e+01, 2.11232e+01, 2.11232e+01,\n",
       "         1.65312e+01, 7.80640e+00, 1.01024e+01, 1.28576e+01, 8.72480e+00,\n",
       "         9.18400e+00, 5.96960e+00, 5.96960e+00, 5.05120e+00, 3.67360e+00,\n",
       "         2.75520e+00, 4.59200e-01, 4.59200e-01],\n",
       "        [2.00000e-03, 1.20000e-03, 4.00000e-04, 1.60000e-03, 5.00000e-02,\n",
       "         5.80000e-02, 6.92000e-02, 6.64000e-02, 6.28000e-02, 5.44000e-02,\n",
       "         5.60000e-02, 6.12000e-02, 5.24000e-02, 5.36000e-02, 4.48000e-02,\n",
       "         3.72000e-02, 4.56000e-02, 3.76000e-02, 3.76000e-02, 2.60000e-02,\n",
       "         2.12000e-02, 2.16000e-02, 2.44000e-02, 1.84000e-02, 1.84000e-02,\n",
       "         1.44000e-02, 6.80000e-03, 8.80000e-03, 1.12000e-02, 7.60000e-03,\n",
       "         8.00000e-03, 5.20000e-03, 5.20000e-03, 4.40000e-03, 3.20000e-03,\n",
       "         2.40000e-03, 4.00000e-04, 4.00000e-04],\n",
       "        [1.00000e-02, 6.00000e-03, 2.00000e-03, 8.00000e-03, 2.50000e-01,\n",
       "         2.90000e-01, 3.46000e-01, 3.32000e-01, 3.14000e-01, 2.72000e-01,\n",
       "         2.80000e-01, 3.06000e-01, 2.62000e-01, 2.68000e-01, 2.24000e-01,\n",
       "         1.86000e-01, 2.28000e-01, 1.88000e-01, 1.88000e-01, 1.30000e-01,\n",
       "         1.06000e-01, 1.08000e-01, 1.22000e-01, 9.20000e-02, 9.20000e-02,\n",
       "         7.20000e-02, 3.40000e-02, 4.40000e-02, 5.60000e-02, 3.80000e-02,\n",
       "         4.00000e-02, 2.60000e-02, 2.60000e-02, 2.20000e-02, 1.60000e-02,\n",
       "         1.20000e-02, 2.00000e-03, 2.00000e-03],\n",
       "        [4.00000e-01, 2.40000e-01, 8.00000e-02, 3.20000e-01, 1.00000e+01,\n",
       "         1.16000e+01, 1.38400e+01, 1.32800e+01, 1.25600e+01, 1.08800e+01,\n",
       "         1.12000e+01, 1.22400e+01, 1.04800e+01, 1.07200e+01, 8.96000e+00,\n",
       "         7.44000e+00, 9.12000e+00, 7.52000e+00, 7.52000e+00, 5.20000e+00,\n",
       "         4.24000e+00, 4.32000e+00, 4.88000e+00, 3.68000e+00, 3.68000e+00,\n",
       "         2.88000e+00, 1.36000e+00, 1.76000e+00, 2.24000e+00, 1.52000e+00,\n",
       "         1.60000e+00, 1.04000e+00, 1.04000e+00, 8.80000e-01, 6.40000e-01,\n",
       "         4.80000e-01, 8.00000e-02, 8.00000e-02],\n",
       "        [2.29200e+00, 1.37520e+00, 4.58400e-01, 1.83360e+00, 5.73000e+01,\n",
       "         6.64680e+01, 7.93032e+01, 7.60944e+01, 7.19688e+01, 6.23424e+01,\n",
       "         6.41760e+01, 7.01352e+01, 6.00504e+01, 6.14256e+01, 5.13408e+01,\n",
       "         4.26312e+01, 5.22576e+01, 4.30896e+01, 4.30896e+01, 2.97960e+01,\n",
       "         2.42952e+01, 2.47536e+01, 2.79624e+01, 2.10864e+01, 2.10864e+01,\n",
       "         1.65024e+01, 7.79280e+00, 1.00848e+01, 1.28352e+01, 8.70960e+00,\n",
       "         9.16800e+00, 5.95920e+00, 5.95920e+00, 5.04240e+00, 3.66720e+00,\n",
       "         2.75040e+00, 4.58400e-01, 4.58400e-01]]))"
      ]
     },
     "execution_count": 16,
     "metadata": {},
     "output_type": "execute_result"
    }
   ],
   "source": [
    "stats.chi2_contingency(c)\n"
   ]
  },
  {
   "cell_type": "markdown",
   "id": "36160bc2",
   "metadata": {
    "papermill": {
     "duration": 0.018905,
     "end_time": "2023-03-29T04:24:19.600533",
     "exception": false,
     "start_time": "2023-03-29T04:24:19.581628",
     "status": "completed"
    },
    "tags": []
   },
   "source": [
    "#### Step 5. Business conclusion:\n",
    "* ***initial p-value= 0.05***\n",
    "* ***new p-value= 1.0065160858471904e-35***\n",
    "\n",
    "* **since new p-value< initial p-value , we will REJECT Ho.**\n",
    "* **Therefore,we can say that there is relationship between FICO scores and Home Ownership with 95% accuracy.**"
   ]
  },
  {
   "cell_type": "markdown",
   "id": "91300fea",
   "metadata": {
    "papermill": {
     "duration": 0.019124,
     "end_time": "2023-03-29T04:24:19.639082",
     "exception": false,
     "start_time": "2023-03-29T04:24:19.619958",
     "status": "completed"
    },
    "tags": []
   },
   "source": [
    "# #BUSINESS PROBLEM 2"
   ]
  },
  {
   "cell_type": "code",
   "execution_count": 17,
   "id": "cfc589a6",
   "metadata": {
    "execution": {
     "iopub.execute_input": "2023-03-29T04:24:19.679313Z",
     "iopub.status.busy": "2023-03-29T04:24:19.678912Z",
     "iopub.status.idle": "2023-03-29T04:24:19.690191Z",
     "shell.execute_reply": "2023-03-29T04:24:19.689233Z"
    },
    "papermill": {
     "duration": 0.034266,
     "end_time": "2023-03-29T04:24:19.692549",
     "exception": false,
     "start_time": "2023-03-29T04:24:19.658283",
     "status": "completed"
    },
    "tags": []
   },
   "outputs": [],
   "source": [
    "price_quotes=pd.read_csv(\"/kaggle/input/python-case-study-5-hypothesis-testing/Price_Quotes.csv\")"
   ]
  },
  {
   "cell_type": "code",
   "execution_count": 18,
   "id": "8badac34",
   "metadata": {
    "execution": {
     "iopub.execute_input": "2023-03-29T04:24:19.732614Z",
     "iopub.status.busy": "2023-03-29T04:24:19.732222Z",
     "iopub.status.idle": "2023-03-29T04:24:19.743077Z",
     "shell.execute_reply": "2023-03-29T04:24:19.742020Z"
    },
    "papermill": {
     "duration": 0.033283,
     "end_time": "2023-03-29T04:24:19.745219",
     "exception": false,
     "start_time": "2023-03-29T04:24:19.711936",
     "status": "completed"
    },
    "tags": []
   },
   "outputs": [
    {
     "data": {
      "text/html": [
       "<div>\n",
       "<style scoped>\n",
       "    .dataframe tbody tr th:only-of-type {\n",
       "        vertical-align: middle;\n",
       "    }\n",
       "\n",
       "    .dataframe tbody tr th {\n",
       "        vertical-align: top;\n",
       "    }\n",
       "\n",
       "    .dataframe thead th {\n",
       "        text-align: right;\n",
       "    }\n",
       "</style>\n",
       "<table border=\"1\" class=\"dataframe\">\n",
       "  <thead>\n",
       "    <tr style=\"text-align: right;\">\n",
       "      <th></th>\n",
       "      <th>Order_Number</th>\n",
       "      <th>Barry_Price</th>\n",
       "      <th>Mary_Price</th>\n",
       "    </tr>\n",
       "  </thead>\n",
       "  <tbody>\n",
       "    <tr>\n",
       "      <th>0</th>\n",
       "      <td>1</td>\n",
       "      <td>126</td>\n",
       "      <td>114</td>\n",
       "    </tr>\n",
       "    <tr>\n",
       "      <th>1</th>\n",
       "      <td>2</td>\n",
       "      <td>110</td>\n",
       "      <td>118</td>\n",
       "    </tr>\n",
       "    <tr>\n",
       "      <th>2</th>\n",
       "      <td>3</td>\n",
       "      <td>138</td>\n",
       "      <td>114</td>\n",
       "    </tr>\n",
       "    <tr>\n",
       "      <th>3</th>\n",
       "      <td>4</td>\n",
       "      <td>142</td>\n",
       "      <td>111</td>\n",
       "    </tr>\n",
       "    <tr>\n",
       "      <th>4</th>\n",
       "      <td>5</td>\n",
       "      <td>146</td>\n",
       "      <td>129</td>\n",
       "    </tr>\n",
       "    <tr>\n",
       "      <th>5</th>\n",
       "      <td>6</td>\n",
       "      <td>136</td>\n",
       "      <td>119</td>\n",
       "    </tr>\n",
       "    <tr>\n",
       "      <th>6</th>\n",
       "      <td>7</td>\n",
       "      <td>94</td>\n",
       "      <td>97</td>\n",
       "    </tr>\n",
       "    <tr>\n",
       "      <th>7</th>\n",
       "      <td>8</td>\n",
       "      <td>103</td>\n",
       "      <td>104</td>\n",
       "    </tr>\n",
       "    <tr>\n",
       "      <th>8</th>\n",
       "      <td>9</td>\n",
       "      <td>140</td>\n",
       "      <td>127</td>\n",
       "    </tr>\n",
       "    <tr>\n",
       "      <th>9</th>\n",
       "      <td>10</td>\n",
       "      <td>152</td>\n",
       "      <td>133</td>\n",
       "    </tr>\n",
       "    <tr>\n",
       "      <th>10</th>\n",
       "      <td>11</td>\n",
       "      <td>108</td>\n",
       "      <td>103</td>\n",
       "    </tr>\n",
       "    <tr>\n",
       "      <th>11</th>\n",
       "      <td>12</td>\n",
       "      <td>97</td>\n",
       "      <td>108</td>\n",
       "    </tr>\n",
       "  </tbody>\n",
       "</table>\n",
       "</div>"
      ],
      "text/plain": [
       "    Order_Number  Barry_Price  Mary_Price\n",
       "0              1          126         114\n",
       "1              2          110         118\n",
       "2              3          138         114\n",
       "3              4          142         111\n",
       "4              5          146         129\n",
       "5              6          136         119\n",
       "6              7           94          97\n",
       "7              8          103         104\n",
       "8              9          140         127\n",
       "9             10          152         133\n",
       "10            11          108         103\n",
       "11            12           97         108"
      ]
     },
     "execution_count": 18,
     "metadata": {},
     "output_type": "execute_result"
    }
   ],
   "source": [
    "price_quotes"
   ]
  },
  {
   "cell_type": "code",
   "execution_count": 19,
   "id": "8d4de725",
   "metadata": {
    "execution": {
     "iopub.execute_input": "2023-03-29T04:24:19.786047Z",
     "iopub.status.busy": "2023-03-29T04:24:19.785688Z",
     "iopub.status.idle": "2023-03-29T04:24:19.794087Z",
     "shell.execute_reply": "2023-03-29T04:24:19.792934Z"
    },
    "papermill": {
     "duration": 0.031979,
     "end_time": "2023-03-29T04:24:19.796809",
     "exception": false,
     "start_time": "2023-03-29T04:24:19.764830",
     "status": "completed"
    },
    "tags": []
   },
   "outputs": [
    {
     "data": {
      "text/plain": [
       "0"
      ]
     },
     "execution_count": 19,
     "metadata": {},
     "output_type": "execute_result"
    }
   ],
   "source": [
    "price_quotes.duplicated().sum()"
   ]
  },
  {
   "cell_type": "code",
   "execution_count": 20,
   "id": "d2e4fc5b",
   "metadata": {
    "execution": {
     "iopub.execute_input": "2023-03-29T04:24:19.838005Z",
     "iopub.status.busy": "2023-03-29T04:24:19.837607Z",
     "iopub.status.idle": "2023-03-29T04:24:19.845853Z",
     "shell.execute_reply": "2023-03-29T04:24:19.845013Z"
    },
    "papermill": {
     "duration": 0.031056,
     "end_time": "2023-03-29T04:24:19.847567",
     "exception": false,
     "start_time": "2023-03-29T04:24:19.816511",
     "status": "completed"
    },
    "tags": []
   },
   "outputs": [
    {
     "data": {
      "text/plain": [
       "Order_Number    0\n",
       "Barry_Price     0\n",
       "Mary_Price      0\n",
       "dtype: int64"
      ]
     },
     "execution_count": 20,
     "metadata": {},
     "output_type": "execute_result"
    }
   ],
   "source": [
    "#as we can see from the table there is no null and duplicate values\n",
    "price_quotes.isna().sum()"
   ]
  },
  {
   "cell_type": "code",
   "execution_count": 21,
   "id": "b6adab56",
   "metadata": {
    "execution": {
     "iopub.execute_input": "2023-03-29T04:24:19.888500Z",
     "iopub.status.busy": "2023-03-29T04:24:19.888073Z",
     "iopub.status.idle": "2023-03-29T04:24:20.050542Z",
     "shell.execute_reply": "2023-03-29T04:24:20.049772Z"
    },
    "papermill": {
     "duration": 0.186576,
     "end_time": "2023-03-29T04:24:20.053789",
     "exception": false,
     "start_time": "2023-03-29T04:24:19.867213",
     "status": "completed"
    },
    "scrolled": true,
    "tags": []
   },
   "outputs": [
    {
     "name": "stderr",
     "output_type": "stream",
     "text": [
      "/opt/conda/lib/python3.7/site-packages/seaborn/_decorators.py:43: FutureWarning: Pass the following variable as a keyword arg: x. From version 0.12, the only valid positional argument will be `data`, and passing other arguments without an explicit keyword will result in an error or misinterpretation.\n",
      "  FutureWarning\n"
     ]
    },
    {
     "data": {
      "text/plain": [
       "<AxesSubplot:xlabel='Mary_Price'>"
      ]
     },
     "execution_count": 21,
     "metadata": {},
     "output_type": "execute_result"
    },
    {
     "data": {
      "image/png": "[encoded data removed]",
      "text/plain": [
       "<Figure size 432x288 with 1 Axes>"
      ]
     },
     "metadata": {
      "needs_background": "light"
     },
     "output_type": "display_data"
    }
   ],
   "source": [
    "#checking for outliers\n",
    "sns.boxplot(price_quotes.Mary_Price)"
   ]
  },
  {
   "cell_type": "code",
   "execution_count": 22,
   "id": "48672264",
   "metadata": {
    "execution": {
     "iopub.execute_input": "2023-03-29T04:24:20.096611Z",
     "iopub.status.busy": "2023-03-29T04:24:20.096198Z",
     "iopub.status.idle": "2023-03-29T04:24:20.193021Z",
     "shell.execute_reply": "2023-03-29T04:24:20.192194Z"
    },
    "papermill": {
     "duration": 0.120685,
     "end_time": "2023-03-29T04:24:20.195097",
     "exception": false,
     "start_time": "2023-03-29T04:24:20.074412",
     "status": "completed"
    },
    "tags": []
   },
   "outputs": [
    {
     "name": "stderr",
     "output_type": "stream",
     "text": [
      "/opt/conda/lib/python3.7/site-packages/seaborn/_decorators.py:43: FutureWarning: Pass the following variable as a keyword arg: x. From version 0.12, the only valid positional argument will be `data`, and passing other arguments without an explicit keyword will result in an error or misinterpretation.\n",
      "  FutureWarning\n"
     ]
    },
    {
     "data": {
      "text/plain": [
       "<AxesSubplot:xlabel='Barry_Price'>"
      ]
     },
     "execution_count": 22,
     "metadata": {},
     "output_type": "execute_result"
    },
    {
     "data": {
      "image/png": "[encoded data removed]",
      "text/plain": [
       "<Figure size 432x288 with 1 Axes>"
      ]
     },
     "metadata": {
      "needs_background": "light"
     },
     "output_type": "display_data"
    }
   ],
   "source": [
    "sns.boxplot(price_quotes.Barry_Price)"
   ]
  },
  {
   "cell_type": "markdown",
   "id": "a239f28d",
   "metadata": {
    "papermill": {
     "duration": 0.02515,
     "end_time": "2023-03-29T04:24:20.246697",
     "exception": false,
     "start_time": "2023-03-29T04:24:20.221547",
     "status": "completed"
    },
    "tags": []
   },
   "source": [
    "## Q. We would like to assess if there is any difference in the average price quotes provided by Mary and Barry."
   ]
  },
  {
   "cell_type": "markdown",
   "id": "6eaa3647",
   "metadata": {
    "papermill": {
     "duration": 0.020069,
     "end_time": "2023-03-29T04:24:20.287475",
     "exception": false,
     "start_time": "2023-03-29T04:24:20.267406",
     "status": "completed"
    },
    "tags": []
   },
   "source": [
    "## Ans.\n",
    "### Step 1. Define null hypothesis , Ho:\n",
    "* ***Ho= there is no difference in the average price quotes provided by Mary and Barry.***\n",
    "\n",
    "### Step 2. Define null hypothesis , Ha:\n",
    "* ***Ha= there is difference in the average price quotes provided by Mary and Barry.***\n",
    "\n",
    "### Step 3. Define CI :\n",
    "* ***CI = 95% , pvalue =0.05***\n",
    "\n",
    "### Step 4. Perform test:\n",
    "* ***T-Test as we are considering sample size of - 12***\n",
    "\n"
   ]
  },
  {
   "cell_type": "code",
   "execution_count": 23,
   "id": "f42cab98",
   "metadata": {
    "execution": {
     "iopub.execute_input": "2023-03-29T04:24:20.331375Z",
     "iopub.status.busy": "2023-03-29T04:24:20.329758Z",
     "iopub.status.idle": "2023-03-29T04:24:20.337166Z",
     "shell.execute_reply": "2023-03-29T04:24:20.336395Z"
    },
    "papermill": {
     "duration": 0.03122,
     "end_time": "2023-03-29T04:24:20.338897",
     "exception": false,
     "start_time": "2023-03-29T04:24:20.307677",
     "status": "completed"
    },
    "tags": []
   },
   "outputs": [
    {
     "data": {
      "text/plain": [
       "Ttest_relResult(statistic=2.521376510892349, pvalue=0.02840588045242053)"
      ]
     },
     "execution_count": 23,
     "metadata": {},
     "output_type": "execute_result"
    }
   ],
   "source": [
    "stats.ttest_rel(price_quotes.Barry_Price, price_quotes.Mary_Price)\n"
   ]
  },
  {
   "cell_type": "markdown",
   "id": "7e778ca2",
   "metadata": {
    "papermill": {
     "duration": 0.020126,
     "end_time": "2023-03-29T04:24:20.379643",
     "exception": false,
     "start_time": "2023-03-29T04:24:20.359517",
     "status": "completed"
    },
    "tags": []
   },
   "source": [
    "### Step 5. Business conclusion:\n",
    "* ***initial p-value= 0.05***\n",
    "* ***new p-value= 0.0284***\n",
    "\n",
    "* **since new p-value< initial p-value , we will REJECT Ho.**\n",
    "* **Therefore, there is difference between the average price quotes provided by Mary and Barry.**"
   ]
  },
  {
   "cell_type": "code",
   "execution_count": null,
   "id": "5962fce8",
   "metadata": {
    "papermill": {
     "duration": 0.019923,
     "end_time": "2023-03-29T04:24:20.419706",
     "exception": false,
     "start_time": "2023-03-29T04:24:20.399783",
     "status": "completed"
    },
    "tags": []
   },
   "outputs": [],
   "source": [
    " "
   ]
  },
  {
   "cell_type": "markdown",
   "id": "6b9d386a",
   "metadata": {
    "papermill": {
     "duration": 0.022689,
     "end_time": "2023-03-29T04:24:20.463106",
     "exception": false,
     "start_time": "2023-03-29T04:24:20.440417",
     "status": "completed"
    },
    "tags": []
   },
   "source": [
    "# #BUSINESS PROBLEM 3"
   ]
  },
  {
   "cell_type": "code",
   "execution_count": 24,
   "id": "524ffb2a",
   "metadata": {
    "execution": {
     "iopub.execute_input": "2023-03-29T04:24:20.506434Z",
     "iopub.status.busy": "2023-03-29T04:24:20.505226Z",
     "iopub.status.idle": "2023-03-29T04:24:20.515689Z",
     "shell.execute_reply": "2023-03-29T04:24:20.514897Z"
    },
    "papermill": {
     "duration": 0.033875,
     "end_time": "2023-03-29T04:24:20.517897",
     "exception": false,
     "start_time": "2023-03-29T04:24:20.484022",
     "status": "completed"
    },
    "tags": []
   },
   "outputs": [],
   "source": [
    "# importing the data\n",
    "treatment=pd.read_csv(\"/kaggle/input/python-case-study-5-hypothesis-testing/Treatment_Facility.csv\")"
   ]
  },
  {
   "cell_type": "code",
   "execution_count": 25,
   "id": "ee2cdaf6",
   "metadata": {
    "execution": {
     "iopub.execute_input": "2023-03-29T04:24:20.560321Z",
     "iopub.status.busy": "2023-03-29T04:24:20.559779Z",
     "iopub.status.idle": "2023-03-29T04:24:20.565082Z",
     "shell.execute_reply": "2023-03-29T04:24:20.564074Z"
    },
    "papermill": {
     "duration": 0.028817,
     "end_time": "2023-03-29T04:24:20.567391",
     "exception": false,
     "start_time": "2023-03-29T04:24:20.538574",
     "status": "completed"
    },
    "tags": []
   },
   "outputs": [],
   "source": [
    "treatment.rename(columns ={'VAR4':'TRFF','VAR5':'CI'},inplace=True)"
   ]
  },
  {
   "cell_type": "code",
   "execution_count": 26,
   "id": "13742f60",
   "metadata": {
    "execution": {
     "iopub.execute_input": "2023-03-29T04:24:20.609878Z",
     "iopub.status.busy": "2023-03-29T04:24:20.609275Z",
     "iopub.status.idle": "2023-03-29T04:24:20.628833Z",
     "shell.execute_reply": "2023-03-29T04:24:20.627921Z"
    },
    "papermill": {
     "duration": 0.043164,
     "end_time": "2023-03-29T04:24:20.630998",
     "exception": false,
     "start_time": "2023-03-29T04:24:20.587834",
     "status": "completed"
    },
    "tags": []
   },
   "outputs": [
    {
     "data": {
      "text/html": [
       "<div>\n",
       "<style scoped>\n",
       "    .dataframe tbody tr th:only-of-type {\n",
       "        vertical-align: middle;\n",
       "    }\n",
       "\n",
       "    .dataframe tbody tr th {\n",
       "        vertical-align: top;\n",
       "    }\n",
       "\n",
       "    .dataframe thead th {\n",
       "        text-align: right;\n",
       "    }\n",
       "</style>\n",
       "<table border=\"1\" class=\"dataframe\">\n",
       "  <thead>\n",
       "    <tr style=\"text-align: right;\">\n",
       "      <th></th>\n",
       "      <th>Month</th>\n",
       "      <th>Employee_Turnover</th>\n",
       "      <th>TRFF</th>\n",
       "      <th>CI</th>\n",
       "    </tr>\n",
       "  </thead>\n",
       "  <tbody>\n",
       "    <tr>\n",
       "      <th>count</th>\n",
       "      <td>20.00000</td>\n",
       "      <td>20.000000</td>\n",
       "      <td>20.000000</td>\n",
       "      <td>20.000000</td>\n",
       "    </tr>\n",
       "    <tr>\n",
       "      <th>mean</th>\n",
       "      <td>10.50000</td>\n",
       "      <td>14.169395</td>\n",
       "      <td>16.582433</td>\n",
       "      <td>43.199541</td>\n",
       "    </tr>\n",
       "    <tr>\n",
       "      <th>std</th>\n",
       "      <td>5.91608</td>\n",
       "      <td>8.836302</td>\n",
       "      <td>10.088265</td>\n",
       "      <td>41.715909</td>\n",
       "    </tr>\n",
       "    <tr>\n",
       "      <th>min</th>\n",
       "      <td>1.00000</td>\n",
       "      <td>0.000000</td>\n",
       "      <td>4.201681</td>\n",
       "      <td>0.000000</td>\n",
       "    </tr>\n",
       "    <tr>\n",
       "      <th>25%</th>\n",
       "      <td>5.75000</td>\n",
       "      <td>9.919350</td>\n",
       "      <td>9.596368</td>\n",
       "      <td>20.731427</td>\n",
       "    </tr>\n",
       "    <tr>\n",
       "      <th>50%</th>\n",
       "      <td>10.50000</td>\n",
       "      <td>12.470850</td>\n",
       "      <td>14.998702</td>\n",
       "      <td>25.669183</td>\n",
       "    </tr>\n",
       "    <tr>\n",
       "      <th>75%</th>\n",
       "      <td>15.25000</td>\n",
       "      <td>19.230750</td>\n",
       "      <td>19.807134</td>\n",
       "      <td>43.776901</td>\n",
       "    </tr>\n",
       "    <tr>\n",
       "      <th>max</th>\n",
       "      <td>20.00000</td>\n",
       "      <td>30.769200</td>\n",
       "      <td>41.176471</td>\n",
       "      <td>146.198830</td>\n",
       "    </tr>\n",
       "  </tbody>\n",
       "</table>\n",
       "</div>"
      ],
      "text/plain": [
       "          Month  Employee_Turnover       TRFF          CI\n",
       "count  20.00000          20.000000  20.000000   20.000000\n",
       "mean   10.50000          14.169395  16.582433   43.199541\n",
       "std     5.91608           8.836302  10.088265   41.715909\n",
       "min     1.00000           0.000000   4.201681    0.000000\n",
       "25%     5.75000           9.919350   9.596368   20.731427\n",
       "50%    10.50000          12.470850  14.998702   25.669183\n",
       "75%    15.25000          19.230750  19.807134   43.776901\n",
       "max    20.00000          30.769200  41.176471  146.198830"
      ]
     },
     "execution_count": 26,
     "metadata": {},
     "output_type": "execute_result"
    }
   ],
   "source": [
    "treatment.describe()"
   ]
  },
  {
   "cell_type": "markdown",
   "id": "57818036",
   "metadata": {
    "papermill": {
     "duration": 0.020566,
     "end_time": "2023-03-29T04:24:20.672465",
     "exception": false,
     "start_time": "2023-03-29T04:24:20.651899",
     "status": "completed"
    },
    "tags": []
   },
   "source": [
    "### BUSINESS PROBLEM: Determine what effect, if any, the reengineering effort had on the incidence behavioral problems and staff turnover. i.e To determine if the reengineering effort changed the critical incidence rate. Is there evidence that the critical incidence rate improved?"
   ]
  },
  {
   "cell_type": "markdown",
   "id": "f3b6e3b1",
   "metadata": {
    "papermill": {
     "duration": 0.020495,
     "end_time": "2023-03-29T04:24:20.713731",
     "exception": false,
     "start_time": "2023-03-29T04:24:20.693236",
     "status": "completed"
    },
    "tags": []
   },
   "source": [
    "## Ans.\n",
    "### Step 1. Define null hypothesis , Ho:\n",
    "* ***Ho= there is no effect post the reengineer***\n",
    "\n",
    "### Step 2. Define null hypothesis , Ha:\n",
    "* ***Ha= there is effect post the reengineer***\n",
    "\n",
    "### Step 3. Define CI :\n",
    "* ***CI = 95% , pvalue =0.05***\n",
    "\n",
    "### Step 4. Perform test:\n",
    "* ***we will perform the T-Test for independent two variable. as these are two different variable.***\n"
   ]
  },
  {
   "cell_type": "code",
   "execution_count": 27,
   "id": "997c8402",
   "metadata": {
    "execution": {
     "iopub.execute_input": "2023-03-29T04:24:20.756879Z",
     "iopub.status.busy": "2023-03-29T04:24:20.756305Z",
     "iopub.status.idle": "2023-03-29T04:24:20.764276Z",
     "shell.execute_reply": "2023-03-29T04:24:20.763399Z"
    },
    "papermill": {
     "duration": 0.031862,
     "end_time": "2023-03-29T04:24:20.766161",
     "exception": false,
     "start_time": "2023-03-29T04:24:20.734299",
     "status": "completed"
    },
    "tags": []
   },
   "outputs": [
    {
     "data": {
      "text/plain": [
       "0      42.682927\n",
       "1      25.806452\n",
       "2     146.198830\n",
       "3     110.429448\n",
       "4      23.952096\n",
       "5      47.058824\n",
       "6       0.000000\n",
       "7      25.000000\n",
       "8     132.183908\n",
       "9      16.574586\n",
       "10     88.757396\n",
       "11     31.746032\n",
       "12     10.152284\n",
       "Name: CI, dtype: float64"
      ]
     },
     "execution_count": 27,
     "metadata": {},
     "output_type": "execute_result"
    }
   ],
   "source": [
    "a= treatment[treatment.Reengineer== 'Prior']['CI']\n",
    "a"
   ]
  },
  {
   "cell_type": "code",
   "execution_count": 28,
   "id": "a746ed4a",
   "metadata": {
    "execution": {
     "iopub.execute_input": "2023-03-29T04:24:20.810133Z",
     "iopub.status.busy": "2023-03-29T04:24:20.809558Z",
     "iopub.status.idle": "2023-03-29T04:24:20.818429Z",
     "shell.execute_reply": "2023-03-29T04:24:20.817103Z"
    },
    "papermill": {
     "duration": 0.03394,
     "end_time": "2023-03-29T04:24:20.821026",
     "exception": false,
     "start_time": "2023-03-29T04:24:20.787086",
     "status": "completed"
    },
    "tags": []
   },
   "outputs": [
    {
     "data": {
      "text/plain": [
       "13    29.126214\n",
       "14    21.008403\n",
       "15    34.782609\n",
       "16    19.900498\n",
       "17     9.950249\n",
       "18    25.531915\n",
       "19    23.148148\n",
       "Name: CI, dtype: float64"
      ]
     },
     "execution_count": 28,
     "metadata": {},
     "output_type": "execute_result"
    }
   ],
   "source": [
    "b=treatment[treatment.Reengineer== 'Post']['CI']\n",
    "b"
   ]
  },
  {
   "cell_type": "code",
   "execution_count": 29,
   "id": "dd51b819",
   "metadata": {
    "execution": {
     "iopub.execute_input": "2023-03-29T04:24:20.867394Z",
     "iopub.status.busy": "2023-03-29T04:24:20.866749Z",
     "iopub.status.idle": "2023-03-29T04:24:20.873214Z",
     "shell.execute_reply": "2023-03-29T04:24:20.871857Z"
    },
    "papermill": {
     "duration": 0.031736,
     "end_time": "2023-03-29T04:24:20.875180",
     "exception": false,
     "start_time": "2023-03-29T04:24:20.843444",
     "status": "completed"
    },
    "tags": []
   },
   "outputs": [
    {
     "data": {
      "text/plain": [
       "Ttest_indResult(statistic=1.6279144253528646, pvalue=0.12091989189884149)"
      ]
     },
     "execution_count": 29,
     "metadata": {},
     "output_type": "execute_result"
    }
   ],
   "source": [
    "stats.ttest_ind(a,b)\n"
   ]
  },
  {
   "cell_type": "markdown",
   "id": "003b4be8",
   "metadata": {
    "papermill": {
     "duration": 0.02096,
     "end_time": "2023-03-29T04:24:20.917500",
     "exception": false,
     "start_time": "2023-03-29T04:24:20.896540",
     "status": "completed"
    },
    "tags": []
   },
   "source": [
    "### Step 5. Business conclusion:\n",
    "* ***initial p-value= 0.05***\n",
    "* ***new p-value= 0.12091989189884149***\n",
    "\n",
    "* **since new p-value > initial p-value , we will ACCEPT Ho.**\n",
    "* **Therefore, With the given data, cant be proved if the reengineering effort changed the critical incidence rate as p-value > 0.05.**`"
   ]
  },
  {
   "cell_type": "markdown",
   "id": "29253887",
   "metadata": {
    "papermill": {
     "duration": 0.020997,
     "end_time": "2023-03-29T04:24:20.961046",
     "exception": false,
     "start_time": "2023-03-29T04:24:20.940049",
     "status": "completed"
    },
    "tags": []
   },
   "source": [
    "# #BUSINESS PROBLEM 4"
   ]
  },
  {
   "cell_type": "code",
   "execution_count": 30,
   "id": "0fde69d7",
   "metadata": {
    "execution": {
     "iopub.execute_input": "2023-03-29T04:24:21.006508Z",
     "iopub.status.busy": "2023-03-29T04:24:21.005008Z",
     "iopub.status.idle": "2023-03-29T04:24:21.016669Z",
     "shell.execute_reply": "2023-03-29T04:24:21.015661Z"
    },
    "papermill": {
     "duration": 0.036737,
     "end_time": "2023-03-29T04:24:21.018977",
     "exception": false,
     "start_time": "2023-03-29T04:24:20.982240",
     "status": "completed"
    },
    "tags": []
   },
   "outputs": [],
   "source": [
    "# importing the data\n",
    "priority_df= pd.read_csv(\"/kaggle/input/python-case-study-5-hypothesis-testing/Priority_Assessment.csv\")\n"
   ]
  },
  {
   "cell_type": "code",
   "execution_count": 31,
   "id": "b40625bc",
   "metadata": {
    "execution": {
     "iopub.execute_input": "2023-03-29T04:24:21.061522Z",
     "iopub.status.busy": "2023-03-29T04:24:21.061105Z",
     "iopub.status.idle": "2023-03-29T04:24:21.071355Z",
     "shell.execute_reply": "2023-03-29T04:24:21.070397Z"
    },
    "papermill": {
     "duration": 0.033524,
     "end_time": "2023-03-29T04:24:21.073173",
     "exception": false,
     "start_time": "2023-03-29T04:24:21.039649",
     "status": "completed"
    },
    "tags": []
   },
   "outputs": [
    {
     "data": {
      "text/plain": [
       "Priority\n",
       "High      985.7\n",
       "Low       283.3\n",
       "Medium    622.5\n",
       "Name: Days, dtype: float64"
      ]
     },
     "execution_count": 31,
     "metadata": {},
     "output_type": "execute_result"
    }
   ],
   "source": [
    "priority_df.groupby('Priority').Days.sum()"
   ]
  },
  {
   "cell_type": "markdown",
   "id": "d3d98402",
   "metadata": {
    "papermill": {
     "duration": 0.020255,
     "end_time": "2023-03-29T04:24:21.114179",
     "exception": false,
     "start_time": "2023-03-29T04:24:21.093924",
     "status": "completed"
    },
    "tags": []
   },
   "source": [
    "### **BUSINESS PROBLEM: We will focus on the prioritization system. If the system is working, then high priority jobs, on average, should be completed more quickly than medium priority jobs, and medium priority jobs should be completed more quickly than low priority jobs. Use the data provided to determine whether this is, in fact, occurring.**"
   ]
  },
  {
   "cell_type": "code",
   "execution_count": 32,
   "id": "4eaaba70",
   "metadata": {
    "execution": {
     "iopub.execute_input": "2023-03-29T04:24:21.157135Z",
     "iopub.status.busy": "2023-03-29T04:24:21.156717Z",
     "iopub.status.idle": "2023-03-29T04:24:21.160841Z",
     "shell.execute_reply": "2023-03-29T04:24:21.159847Z"
    },
    "papermill": {
     "duration": 0.028005,
     "end_time": "2023-03-29T04:24:21.162882",
     "exception": false,
     "start_time": "2023-03-29T04:24:21.134877",
     "status": "completed"
    },
    "tags": []
   },
   "outputs": [],
   "source": [
    "##FIRST, OVERALL AND PARKING\n",
    "#Step 1, H0 - THE SYSTEM IS NOT WORKING\n",
    "#Step 2,Ha - THE NEW SYSTEM IS WORKING\n",
    "#Step 3, CI - 95% p - 0.05\n",
    "#Step 4, Perform the test, - F-TEST | ANOVA "
   ]
  },
  {
   "cell_type": "code",
   "execution_count": 33,
   "id": "1044da50",
   "metadata": {
    "execution": {
     "iopub.execute_input": "2023-03-29T04:24:21.207037Z",
     "iopub.status.busy": "2023-03-29T04:24:21.206650Z",
     "iopub.status.idle": "2023-03-29T04:24:21.216123Z",
     "shell.execute_reply": "2023-03-29T04:24:21.215027Z"
    },
    "papermill": {
     "duration": 0.033888,
     "end_time": "2023-03-29T04:24:21.218075",
     "exception": false,
     "start_time": "2023-03-29T04:24:21.184187",
     "status": "completed"
    },
    "tags": []
   },
   "outputs": [
    {
     "data": {
      "text/plain": [
       "High      326\n",
       "Medium    249\n",
       "Low        67\n",
       "Name: Priority, dtype: int64"
      ]
     },
     "execution_count": 33,
     "metadata": {},
     "output_type": "execute_result"
    }
   ],
   "source": [
    "priority_df.Priority.value_counts()"
   ]
  },
  {
   "cell_type": "code",
   "execution_count": 34,
   "id": "191e7fe2",
   "metadata": {
    "execution": {
     "iopub.execute_input": "2023-03-29T04:24:21.262604Z",
     "iopub.status.busy": "2023-03-29T04:24:21.262218Z",
     "iopub.status.idle": "2023-03-29T04:24:21.270043Z",
     "shell.execute_reply": "2023-03-29T04:24:21.268687Z"
    },
    "papermill": {
     "duration": 0.033329,
     "end_time": "2023-03-29T04:24:21.272504",
     "exception": false,
     "start_time": "2023-03-29T04:24:21.239175",
     "status": "completed"
    },
    "tags": []
   },
   "outputs": [],
   "source": [
    "# sample for High priority\n",
    "s1= priority_df[priority_df.Priority=='High'].Days\n",
    "s2= priority_df[priority_df.Priority=='Medium'].Days\n",
    "s3= priority_df[priority_df.Priority=='Low'].Days\n"
   ]
  },
  {
   "cell_type": "code",
   "execution_count": 35,
   "id": "d59c32d2",
   "metadata": {
    "execution": {
     "iopub.execute_input": "2023-03-29T04:24:21.317345Z",
     "iopub.status.busy": "2023-03-29T04:24:21.316927Z",
     "iopub.status.idle": "2023-03-29T04:24:21.323890Z",
     "shell.execute_reply": "2023-03-29T04:24:21.322878Z"
    },
    "papermill": {
     "duration": 0.032403,
     "end_time": "2023-03-29T04:24:21.326177",
     "exception": false,
     "start_time": "2023-03-29T04:24:21.293774",
     "status": "completed"
    },
    "tags": []
   },
   "outputs": [
    {
     "name": "stdout",
     "output_type": "stream",
     "text": [
      "3.0236196319018402\n",
      "2.5\n",
      "4.228358208955224\n"
     ]
    }
   ],
   "source": [
    "#calculate mean\n",
    "m1= s1.mean()\n",
    "m2 = s2.mean()\n",
    "m3= s3.mean()\n",
    "print(m1)\n",
    "print(m2)\n",
    "print(m3)"
   ]
  },
  {
   "cell_type": "code",
   "execution_count": 36,
   "id": "34c1bcf7",
   "metadata": {
    "execution": {
     "iopub.execute_input": "2023-03-29T04:24:21.370348Z",
     "iopub.status.busy": "2023-03-29T04:24:21.369947Z",
     "iopub.status.idle": "2023-03-29T04:24:21.377364Z",
     "shell.execute_reply": "2023-03-29T04:24:21.376164Z"
    },
    "papermill": {
     "duration": 0.03176,
     "end_time": "2023-03-29T04:24:21.379228",
     "exception": false,
     "start_time": "2023-03-29T04:24:21.347468",
     "status": "completed"
    },
    "tags": []
   },
   "outputs": [
    {
     "data": {
      "text/plain": [
       "F_onewayResult(statistic=1.812311010076072, pvalue=0.16411459461716182)"
      ]
     },
     "execution_count": 36,
     "metadata": {},
     "output_type": "execute_result"
    }
   ],
   "source": [
    "stats.f_oneway(s1,s2,s3)"
   ]
  },
  {
   "cell_type": "code",
   "execution_count": 37,
   "id": "c5b92ee5",
   "metadata": {
    "execution": {
     "iopub.execute_input": "2023-03-29T04:24:21.423623Z",
     "iopub.status.busy": "2023-03-29T04:24:21.423203Z",
     "iopub.status.idle": "2023-03-29T04:24:21.428252Z",
     "shell.execute_reply": "2023-03-29T04:24:21.426930Z"
    },
    "papermill": {
     "duration": 0.030843,
     "end_time": "2023-03-29T04:24:21.431153",
     "exception": false,
     "start_time": "2023-03-29T04:24:21.400310",
     "status": "completed"
    },
    "tags": []
   },
   "outputs": [],
   "source": [
    "# Step 5, \n",
    "# CONCLUSION : SINCE, INITIAL P-VALUE(0.05)< NEW P- VALUE(0.16411459461716182)\n",
    "#therefore, we'll ACCEPT Ho.\n",
    "# THE NEW SYSTEM IS NOT WORKING"
   ]
  },
  {
   "cell_type": "markdown",
   "id": "28140292",
   "metadata": {
    "papermill": {
     "duration": 0.021339,
     "end_time": "2023-03-29T04:24:21.474107",
     "exception": false,
     "start_time": "2023-03-29T04:24:21.452768",
     "status": "completed"
    },
    "tags": []
   },
   "source": [
    "# #BUSINESS PROBLEM 5"
   ]
  },
  {
   "cell_type": "code",
   "execution_count": 38,
   "id": "a4dcda07",
   "metadata": {
    "execution": {
     "iopub.execute_input": "2023-03-29T04:24:21.519116Z",
     "iopub.status.busy": "2023-03-29T04:24:21.518678Z",
     "iopub.status.idle": "2023-03-29T04:24:21.529424Z",
     "shell.execute_reply": "2023-03-29T04:24:21.528533Z"
    },
    "papermill": {
     "duration": 0.036293,
     "end_time": "2023-03-29T04:24:21.531942",
     "exception": false,
     "start_time": "2023-03-29T04:24:21.495649",
     "status": "completed"
    },
    "tags": []
   },
   "outputs": [],
   "source": [
    "#importing the data\n",
    "films= pd.read_csv(\"/kaggle/input/python-case-study-5-hypothesis-testing/Films.csv\")"
   ]
  },
  {
   "cell_type": "code",
   "execution_count": 39,
   "id": "cca475de",
   "metadata": {
    "execution": {
     "iopub.execute_input": "2023-03-29T04:24:21.577491Z",
     "iopub.status.busy": "2023-03-29T04:24:21.577103Z",
     "iopub.status.idle": "2023-03-29T04:24:21.600670Z",
     "shell.execute_reply": "2023-03-29T04:24:21.599311Z"
    },
    "papermill": {
     "duration": 0.048809,
     "end_time": "2023-03-29T04:24:21.602572",
     "exception": false,
     "start_time": "2023-03-29T04:24:21.553763",
     "status": "completed"
    },
    "tags": []
   },
   "outputs": [
    {
     "data": {
      "text/html": [
       "<div>\n",
       "<style scoped>\n",
       "    .dataframe tbody tr th:only-of-type {\n",
       "        vertical-align: middle;\n",
       "    }\n",
       "\n",
       "    .dataframe tbody tr th {\n",
       "        vertical-align: top;\n",
       "    }\n",
       "\n",
       "    .dataframe thead th {\n",
       "        text-align: right;\n",
       "    }\n",
       "</style>\n",
       "<table border=\"1\" class=\"dataframe\">\n",
       "  <thead>\n",
       "    <tr style=\"text-align: right;\">\n",
       "      <th></th>\n",
       "      <th>_rowstate_</th>\n",
       "      <th>Movie</th>\n",
       "      <th>Gender</th>\n",
       "      <th>Marital_Status</th>\n",
       "      <th>Sinage</th>\n",
       "      <th>Parking</th>\n",
       "      <th>Clean</th>\n",
       "      <th>Overall</th>\n",
       "      <th>Age</th>\n",
       "      <th>Income</th>\n",
       "      <th>Hear_About</th>\n",
       "    </tr>\n",
       "  </thead>\n",
       "  <tbody>\n",
       "    <tr>\n",
       "      <th>0</th>\n",
       "      <td>0</td>\n",
       "      <td>Ferris Buellers Day Off</td>\n",
       "      <td>Female</td>\n",
       "      <td>Married</td>\n",
       "      <td>2.0</td>\n",
       "      <td>2.0</td>\n",
       "      <td>2.0</td>\n",
       "      <td>2.0</td>\n",
       "      <td>3.0</td>\n",
       "      <td>1.0</td>\n",
       "      <td>5</td>\n",
       "    </tr>\n",
       "    <tr>\n",
       "      <th>1</th>\n",
       "      <td>0</td>\n",
       "      <td>Ferris Buellers Day Off</td>\n",
       "      <td>Female</td>\n",
       "      <td>Single</td>\n",
       "      <td>1.0</td>\n",
       "      <td>1.0</td>\n",
       "      <td>1.0</td>\n",
       "      <td>1.0</td>\n",
       "      <td>2.0</td>\n",
       "      <td>1.0</td>\n",
       "      <td>5</td>\n",
       "    </tr>\n",
       "    <tr>\n",
       "      <th>2</th>\n",
       "      <td>0</td>\n",
       "      <td>Ferris Buellers Day Off</td>\n",
       "      <td>Male</td>\n",
       "      <td>Married</td>\n",
       "      <td>2.0</td>\n",
       "      <td>4.0</td>\n",
       "      <td>3.0</td>\n",
       "      <td>2.0</td>\n",
       "      <td>4.0</td>\n",
       "      <td>1.0</td>\n",
       "      <td>5</td>\n",
       "    </tr>\n",
       "    <tr>\n",
       "      <th>3</th>\n",
       "      <td>0</td>\n",
       "      <td>Ferris Buellers Day Off</td>\n",
       "      <td>Female</td>\n",
       "      <td>Married</td>\n",
       "      <td>1.0</td>\n",
       "      <td>3.0</td>\n",
       "      <td>2.0</td>\n",
       "      <td>2.0</td>\n",
       "      <td>4.0</td>\n",
       "      <td>1.0</td>\n",
       "      <td>5</td>\n",
       "    </tr>\n",
       "    <tr>\n",
       "      <th>4</th>\n",
       "      <td>0</td>\n",
       "      <td>Ferris Buellers Day Off</td>\n",
       "      <td>Female</td>\n",
       "      <td>Married</td>\n",
       "      <td>1.0</td>\n",
       "      <td>1.0</td>\n",
       "      <td>1.0</td>\n",
       "      <td>1.0</td>\n",
       "      <td>3.0</td>\n",
       "      <td>3.0</td>\n",
       "      <td>1</td>\n",
       "    </tr>\n",
       "    <tr>\n",
       "      <th>...</th>\n",
       "      <td>...</td>\n",
       "      <td>...</td>\n",
       "      <td>...</td>\n",
       "      <td>...</td>\n",
       "      <td>...</td>\n",
       "      <td>...</td>\n",
       "      <td>...</td>\n",
       "      <td>...</td>\n",
       "      <td>...</td>\n",
       "      <td>...</td>\n",
       "      <td>...</td>\n",
       "    </tr>\n",
       "    <tr>\n",
       "      <th>325</th>\n",
       "      <td>0</td>\n",
       "      <td>Old School</td>\n",
       "      <td>2</td>\n",
       "      <td>2</td>\n",
       "      <td>1.0</td>\n",
       "      <td>2.0</td>\n",
       "      <td>1.0</td>\n",
       "      <td>1.0</td>\n",
       "      <td>2.0</td>\n",
       "      <td>1.0</td>\n",
       "      <td>1</td>\n",
       "    </tr>\n",
       "    <tr>\n",
       "      <th>326</th>\n",
       "      <td>0</td>\n",
       "      <td>Old School</td>\n",
       "      <td>1</td>\n",
       "      <td>1</td>\n",
       "      <td>2.0</td>\n",
       "      <td>2.0</td>\n",
       "      <td>2.0</td>\n",
       "      <td>2.0</td>\n",
       "      <td>3.0</td>\n",
       "      <td>3.0</td>\n",
       "      <td>5</td>\n",
       "    </tr>\n",
       "    <tr>\n",
       "      <th>327</th>\n",
       "      <td>0</td>\n",
       "      <td>Old School</td>\n",
       "      <td>2</td>\n",
       "      <td>1</td>\n",
       "      <td>2.0</td>\n",
       "      <td>1.0</td>\n",
       "      <td>1.0</td>\n",
       "      <td>2.0</td>\n",
       "      <td>2.0</td>\n",
       "      <td>2.0</td>\n",
       "      <td>5</td>\n",
       "    </tr>\n",
       "    <tr>\n",
       "      <th>328</th>\n",
       "      <td>0</td>\n",
       "      <td>Old School</td>\n",
       "      <td>1</td>\n",
       "      <td>1</td>\n",
       "      <td>1.0</td>\n",
       "      <td>1.0</td>\n",
       "      <td>1.0</td>\n",
       "      <td>1.0</td>\n",
       "      <td>2.0</td>\n",
       "      <td>1.0</td>\n",
       "      <td>3</td>\n",
       "    </tr>\n",
       "    <tr>\n",
       "      <th>329</th>\n",
       "      <td>0</td>\n",
       "      <td>Old School</td>\n",
       "      <td>2</td>\n",
       "      <td>2</td>\n",
       "      <td>2.0</td>\n",
       "      <td>2.0</td>\n",
       "      <td>3.0</td>\n",
       "      <td>1.0</td>\n",
       "      <td>2.0</td>\n",
       "      <td>1.0</td>\n",
       "      <td>5</td>\n",
       "    </tr>\n",
       "  </tbody>\n",
       "</table>\n",
       "<p>330 rows × 11 columns</p>\n",
       "</div>"
      ],
      "text/plain": [
       "     _rowstate_                    Movie  Gender Marital_Status  Sinage  \\\n",
       "0             0  Ferris Buellers Day Off  Female        Married     2.0   \n",
       "1             0  Ferris Buellers Day Off  Female         Single     1.0   \n",
       "2             0  Ferris Buellers Day Off    Male        Married     2.0   \n",
       "3             0  Ferris Buellers Day Off  Female        Married     1.0   \n",
       "4             0  Ferris Buellers Day Off  Female        Married     1.0   \n",
       "..          ...                      ...     ...            ...     ...   \n",
       "325           0               Old School       2              2     1.0   \n",
       "326           0               Old School       1              1     2.0   \n",
       "327           0               Old School       2              1     2.0   \n",
       "328           0               Old School       1              1     1.0   \n",
       "329           0               Old School       2              2     2.0   \n",
       "\n",
       "     Parking  Clean  Overall  Age  Income Hear_About  \n",
       "0        2.0    2.0      2.0  3.0     1.0          5  \n",
       "1        1.0    1.0      1.0  2.0     1.0          5  \n",
       "2        4.0    3.0      2.0  4.0     1.0          5  \n",
       "3        3.0    2.0      2.0  4.0     1.0          5  \n",
       "4        1.0    1.0      1.0  3.0     3.0          1  \n",
       "..       ...    ...      ...  ...     ...        ...  \n",
       "325      2.0    1.0      1.0  2.0     1.0          1  \n",
       "326      2.0    2.0      2.0  3.0     3.0          5  \n",
       "327      1.0    1.0      2.0  2.0     2.0          5  \n",
       "328      1.0    1.0      1.0  2.0     1.0          3  \n",
       "329      2.0    3.0      1.0  2.0     1.0          5  \n",
       "\n",
       "[330 rows x 11 columns]"
      ]
     },
     "execution_count": 39,
     "metadata": {},
     "output_type": "execute_result"
    }
   ],
   "source": [
    "films"
   ]
  },
  {
   "cell_type": "code",
   "execution_count": 40,
   "id": "c3b836d9",
   "metadata": {
    "execution": {
     "iopub.execute_input": "2023-03-29T04:24:21.647067Z",
     "iopub.status.busy": "2023-03-29T04:24:21.646652Z",
     "iopub.status.idle": "2023-03-29T04:24:21.653636Z",
     "shell.execute_reply": "2023-03-29T04:24:21.653017Z"
    },
    "papermill": {
     "duration": 0.031387,
     "end_time": "2023-03-29T04:24:21.655269",
     "exception": false,
     "start_time": "2023-03-29T04:24:21.623882",
     "status": "completed"
    },
    "tags": []
   },
   "outputs": [
    {
     "data": {
      "text/plain": [
       "Marital_Status\n",
       "1           88\n",
       "2          208\n",
       "Married     12\n",
       "Single      18\n",
       "Slngle       2\n",
       "Name: Gender, dtype: int64"
      ]
     },
     "execution_count": 40,
     "metadata": {},
     "output_type": "execute_result"
    }
   ],
   "source": [
    "#here, we have a spelling error in slngle\n",
    "films.groupby(films.Marital_Status).Gender.count()\n"
   ]
  },
  {
   "cell_type": "code",
   "execution_count": 41,
   "id": "d676af2b",
   "metadata": {
    "execution": {
     "iopub.execute_input": "2023-03-29T04:24:21.699745Z",
     "iopub.status.busy": "2023-03-29T04:24:21.699355Z",
     "iopub.status.idle": "2023-03-29T04:24:21.705297Z",
     "shell.execute_reply": "2023-03-29T04:24:21.704036Z"
    },
    "papermill": {
     "duration": 0.030716,
     "end_time": "2023-03-29T04:24:21.707168",
     "exception": false,
     "start_time": "2023-03-29T04:24:21.676452",
     "status": "completed"
    },
    "tags": []
   },
   "outputs": [],
   "source": [
    "#to correct spelling error\n",
    "films.replace('Slngle','Single', inplace=True)"
   ]
  },
  {
   "cell_type": "code",
   "execution_count": 42,
   "id": "26eb6da0",
   "metadata": {
    "execution": {
     "iopub.execute_input": "2023-03-29T04:24:21.751879Z",
     "iopub.status.busy": "2023-03-29T04:24:21.751235Z",
     "iopub.status.idle": "2023-03-29T04:24:21.759575Z",
     "shell.execute_reply": "2023-03-29T04:24:21.758236Z"
    },
    "papermill": {
     "duration": 0.032972,
     "end_time": "2023-03-29T04:24:21.761530",
     "exception": false,
     "start_time": "2023-03-29T04:24:21.728558",
     "status": "completed"
    },
    "tags": []
   },
   "outputs": [
    {
     "data": {
      "text/plain": [
       "_rowstate_         0\n",
       "Movie              0\n",
       "Gender             0\n",
       "Marital_Status     2\n",
       "Sinage             2\n",
       "Parking            2\n",
       "Clean              3\n",
       "Overall            2\n",
       "Age                2\n",
       "Income            16\n",
       "Hear_About         7\n",
       "dtype: int64"
      ]
     },
     "execution_count": 42,
     "metadata": {},
     "output_type": "execute_result"
    }
   ],
   "source": [
    "films.isna().sum()"
   ]
  },
  {
   "cell_type": "code",
   "execution_count": 43,
   "id": "fbf46613",
   "metadata": {
    "execution": {
     "iopub.execute_input": "2023-03-29T04:24:21.806913Z",
     "iopub.status.busy": "2023-03-29T04:24:21.806536Z",
     "iopub.status.idle": "2023-03-29T04:24:21.814263Z",
     "shell.execute_reply": "2023-03-29T04:24:21.813382Z"
    },
    "papermill": {
     "duration": 0.032973,
     "end_time": "2023-03-29T04:24:21.816253",
     "exception": false,
     "start_time": "2023-03-29T04:24:21.783280",
     "status": "completed"
    },
    "tags": []
   },
   "outputs": [],
   "source": [
    "#delete all duplicate values\n",
    "films.drop_duplicates(inplace=True)#duplicated()"
   ]
  },
  {
   "cell_type": "code",
   "execution_count": 44,
   "id": "8b0ea2ff",
   "metadata": {
    "execution": {
     "iopub.execute_input": "2023-03-29T04:24:21.860867Z",
     "iopub.status.busy": "2023-03-29T04:24:21.860288Z",
     "iopub.status.idle": "2023-03-29T04:24:21.866181Z",
     "shell.execute_reply": "2023-03-29T04:24:21.865538Z"
    },
    "papermill": {
     "duration": 0.03087,
     "end_time": "2023-03-29T04:24:21.868514",
     "exception": false,
     "start_time": "2023-03-29T04:24:21.837644",
     "status": "completed"
    },
    "tags": []
   },
   "outputs": [],
   "source": [
    "# since, we know that , The patron’s gender: 1 = male; 2 = female, so we should replace it to avoid confusion\n",
    "films.Gender.replace({'1':'Male', '2':'Female' }, inplace=True)\n",
    "# Same goes with Marital Status ,The patron’s marital status: 1 = married, 2 = single\n",
    "films.Marital_Status.replace({'1': 'Married', '2':'Single'}, inplace=True)"
   ]
  },
  {
   "cell_type": "markdown",
   "id": "5e9863d8",
   "metadata": {
    "papermill": {
     "duration": 0.021867,
     "end_time": "2023-03-29T04:24:21.912619",
     "exception": false,
     "start_time": "2023-03-29T04:24:21.890752",
     "status": "completed"
    },
    "tags": []
   },
   "source": [
    "### Q1, What is the overall level of customer satisfaction?"
   ]
  },
  {
   "cell_type": "markdown",
   "id": "ef025e99",
   "metadata": {
    "papermill": {
     "duration": 0.022163,
     "end_time": "2023-03-29T04:24:21.956874",
     "exception": false,
     "start_time": "2023-03-29T04:24:21.934711",
     "status": "completed"
    },
    "tags": []
   },
   "source": [
    "### Ans, \n",
    "**Overall level of consumer satisfaction is mostly 2 and 1 , that is GOOD and EXCELLENT.**"
   ]
  },
  {
   "cell_type": "code",
   "execution_count": 45,
   "id": "f3e96bfd",
   "metadata": {
    "execution": {
     "iopub.execute_input": "2023-03-29T04:24:22.002569Z",
     "iopub.status.busy": "2023-03-29T04:24:22.002013Z",
     "iopub.status.idle": "2023-03-29T04:24:22.010966Z",
     "shell.execute_reply": "2023-03-29T04:24:22.009817Z"
    },
    "papermill": {
     "duration": 0.034047,
     "end_time": "2023-03-29T04:24:22.012760",
     "exception": false,
     "start_time": "2023-03-29T04:24:21.978713",
     "status": "completed"
    },
    "tags": []
   },
   "outputs": [
    {
     "data": {
      "text/plain": [
       "Overall\n",
       "2.0    268.0\n",
       "1.0    131.0\n",
       "3.0     36.0\n",
       "5.0     20.0\n",
       "4.0      4.0\n",
       "Name: Overall, dtype: float64"
      ]
     },
     "execution_count": 45,
     "metadata": {},
     "output_type": "execute_result"
    }
   ],
   "source": [
    "films.groupby(films.Overall).Overall.sum().sort_values(ascending= False)"
   ]
  },
  {
   "cell_type": "code",
   "execution_count": 46,
   "id": "b3072b08",
   "metadata": {
    "execution": {
     "iopub.execute_input": "2023-03-29T04:24:22.057203Z",
     "iopub.status.busy": "2023-03-29T04:24:22.056646Z",
     "iopub.status.idle": "2023-03-29T04:24:22.257097Z",
     "shell.execute_reply": "2023-03-29T04:24:22.256290Z"
    },
    "papermill": {
     "duration": 0.224885,
     "end_time": "2023-03-29T04:24:22.258924",
     "exception": false,
     "start_time": "2023-03-29T04:24:22.034039",
     "status": "completed"
    },
    "tags": []
   },
   "outputs": [
    {
     "data": {
      "text/plain": [
       "<AxesSubplot:xlabel='Overall', ylabel='Count'>"
      ]
     },
     "execution_count": 46,
     "metadata": {},
     "output_type": "execute_result"
    },
    {
     "data": {
      "image/png": "[encoded data removed]",
      "text/plain": [
       "<Figure size 432x288 with 1 Axes>"
      ]
     },
     "metadata": {
      "needs_background": "light"
     },
     "output_type": "display_data"
    }
   ],
   "source": [
    "sns.histplot(films.Overall)"
   ]
  },
  {
   "cell_type": "markdown",
   "id": "84b2bfa9",
   "metadata": {
    "papermill": {
     "duration": 0.02101,
     "end_time": "2023-03-29T04:24:22.301949",
     "exception": false,
     "start_time": "2023-03-29T04:24:22.280939",
     "status": "completed"
    },
    "tags": []
   },
   "source": [
    " ### Q2, What factors are linked to satisfaction?"
   ]
  },
  {
   "cell_type": "code",
   "execution_count": 47,
   "id": "308be32d",
   "metadata": {
    "execution": {
     "iopub.execute_input": "2023-03-29T04:24:22.346965Z",
     "iopub.status.busy": "2023-03-29T04:24:22.345969Z",
     "iopub.status.idle": "2023-03-29T04:24:22.368011Z",
     "shell.execute_reply": "2023-03-29T04:24:22.366773Z"
    },
    "papermill": {
     "duration": 0.046497,
     "end_time": "2023-03-29T04:24:22.369877",
     "exception": false,
     "start_time": "2023-03-29T04:24:22.323380",
     "status": "completed"
    },
    "tags": []
   },
   "outputs": [
    {
     "data": {
      "text/plain": [
       "(181.10964214817002,\n",
       " 5.046695211640295e-30,\n",
       " 16,\n",
       " array([[5.26797153e+01, 6.01387900e+01, 1.30533808e+01, 3.26334520e+00,\n",
       "         1.86476868e+00],\n",
       "        [5.34839858e+01, 6.10569395e+01, 1.32526690e+01, 3.31316726e+00,\n",
       "         1.89323843e+00],\n",
       "        [4.82562278e+00, 5.50889680e+00, 1.19572954e+00, 2.98932384e-01,\n",
       "         1.70818505e-01],\n",
       "        [4.02135231e-01, 4.59074733e-01, 9.96441281e-02, 2.49110320e-02,\n",
       "         1.42348754e-02],\n",
       "        [1.60854093e+00, 1.83629893e+00, 3.98576512e-01, 9.96441281e-02,\n",
       "         5.69395018e-02]]))"
      ]
     },
     "execution_count": 47,
     "metadata": {},
     "output_type": "execute_result"
    }
   ],
   "source": [
    "#FIRST, OVERALL AND PARKING\n",
    "#Step 1, H0 - No relationship\n",
    "#Step 2,Ha - There is a relationship between OVERALL AND PARKING\n",
    "#Step 3, CI - 95% p - 0.05\n",
    "#Step 4, Perform the test, - CHI square(because we have to show relationship between 2 categorical variables)\n",
    "observed =pd.crosstab(index=films.Overall,columns=(films.Parking))\n",
    "observed\n",
    "stats.chi2_contingency(observed)"
   ]
  },
  {
   "cell_type": "code",
   "execution_count": 48,
   "id": "8e93f3fa",
   "metadata": {
    "execution": {
     "iopub.execute_input": "2023-03-29T04:24:22.415419Z",
     "iopub.status.busy": "2023-03-29T04:24:22.415022Z",
     "iopub.status.idle": "2023-03-29T04:24:22.419468Z",
     "shell.execute_reply": "2023-03-29T04:24:22.418393Z"
    },
    "papermill": {
     "duration": 0.029769,
     "end_time": "2023-03-29T04:24:22.421441",
     "exception": false,
     "start_time": "2023-03-29T04:24:22.391672",
     "status": "completed"
    },
    "tags": []
   },
   "outputs": [],
   "source": [
    "# CONCLUSION : SINCE, INITIAL P-VALUE(0.05)> NEW P- VALUE(5.046695211640295e-30)\n",
    "#therefore, we'll REJECT Ho.\n",
    "# There is a relationship between OVERALL AND PARKING"
   ]
  },
  {
   "cell_type": "code",
   "execution_count": 49,
   "id": "4e588155",
   "metadata": {
    "execution": {
     "iopub.execute_input": "2023-03-29T04:24:22.467933Z",
     "iopub.status.busy": "2023-03-29T04:24:22.467563Z",
     "iopub.status.idle": "2023-03-29T04:24:22.487999Z",
     "shell.execute_reply": "2023-03-29T04:24:22.486621Z"
    },
    "papermill": {
     "duration": 0.046459,
     "end_time": "2023-03-29T04:24:22.490657",
     "exception": false,
     "start_time": "2023-03-29T04:24:22.444198",
     "status": "completed"
    },
    "tags": []
   },
   "outputs": [
    {
     "data": {
      "text/plain": [
       "(92.88713668393578,\n",
       " 7.327720046056968e-13,\n",
       " 16,\n",
       " array([[5.68754448e+01, 6.06049822e+01, 1.07224199e+01, 1.86476868e+00,\n",
       "         9.32384342e-01],\n",
       "        [5.77437722e+01, 6.15302491e+01, 1.08861210e+01, 1.89323843e+00,\n",
       "         9.46619217e-01],\n",
       "        [5.20996441e+00, 5.55160142e+00, 9.82206406e-01, 1.70818505e-01,\n",
       "         8.54092527e-02],\n",
       "        [4.34163701e-01, 4.62633452e-01, 8.18505338e-02, 1.42348754e-02,\n",
       "         7.11743772e-03],\n",
       "        [1.73665480e+00, 1.85053381e+00, 3.27402135e-01, 5.69395018e-02,\n",
       "         2.84697509e-02]]))"
      ]
     },
     "execution_count": 49,
     "metadata": {},
     "output_type": "execute_result"
    }
   ],
   "source": [
    "# SECOND,  OVERALL AND CLEAN\n",
    "#Step 1, H0 - No relationship\n",
    "#Step 2,Ha - There is a relationship between OVERALL AND CLEAN\n",
    "#Step 3, CI - 95% p - 0.05\n",
    "#Step 4, Perform the test, - CHI square(because we have to show relationship between 2 categorical variables)\n",
    "observed =pd.crosstab(index=films.Overall,columns=(films.Clean))\n",
    "observed\n",
    "stats.chi2_contingency(observed)"
   ]
  },
  {
   "cell_type": "code",
   "execution_count": 50,
   "id": "77e1023e",
   "metadata": {
    "execution": {
     "iopub.execute_input": "2023-03-29T04:24:22.537528Z",
     "iopub.status.busy": "2023-03-29T04:24:22.537118Z",
     "iopub.status.idle": "2023-03-29T04:24:22.541960Z",
     "shell.execute_reply": "2023-03-29T04:24:22.540748Z"
    },
    "papermill": {
     "duration": 0.030976,
     "end_time": "2023-03-29T04:24:22.544108",
     "exception": false,
     "start_time": "2023-03-29T04:24:22.513132",
     "status": "completed"
    },
    "tags": []
   },
   "outputs": [],
   "source": [
    "# CONCLUSION : SINCE, INITIAL P-VALUE(0.05)> NEW P- VALUE(7.327720046056967e-13)\n",
    "#therefore, we'll REJECT Ho.\n",
    "# There is a relationship between OVERALL AND CLEAN ."
   ]
  },
  {
   "cell_type": "code",
   "execution_count": 51,
   "id": "b22ab3fb",
   "metadata": {
    "execution": {
     "iopub.execute_input": "2023-03-29T04:24:22.592974Z",
     "iopub.status.busy": "2023-03-29T04:24:22.592575Z",
     "iopub.status.idle": "2023-03-29T04:24:22.613946Z",
     "shell.execute_reply": "2023-03-29T04:24:22.613063Z"
    },
    "papermill": {
     "duration": 0.047235,
     "end_time": "2023-03-29T04:24:22.615818",
     "exception": false,
     "start_time": "2023-03-29T04:24:22.568583",
     "status": "completed"
    },
    "tags": []
   },
   "outputs": [
    {
     "data": {
      "text/plain": [
       "(96.6900409305424,\n",
       " 1.4397985934919274e-13,\n",
       " 16,\n",
       " array([[4.25622776e+01, 6.19928826e+01, 2.03558719e+01, 2.77580071e+00,\n",
       "         2.31316726e+00],\n",
       "        [4.38718861e+01, 6.39003559e+01, 2.09822064e+01, 2.86120996e+00,\n",
       "         2.38434164e+00],\n",
       "        [3.92882562e+00, 5.72241993e+00, 1.87900356e+00, 2.56227758e-01,\n",
       "         2.13523132e-01],\n",
       "        [3.27402135e-01, 4.76868327e-01, 1.56583630e-01, 2.13523132e-02,\n",
       "         1.77935943e-02],\n",
       "        [1.30960854e+00, 1.90747331e+00, 6.26334520e-01, 8.54092527e-02,\n",
       "         7.11743772e-02]]))"
      ]
     },
     "execution_count": 51,
     "metadata": {},
     "output_type": "execute_result"
    }
   ],
   "source": [
    "# THIRD, OVERALL AND SINAGE\n",
    "#Step 1, H0 - No relationship\n",
    "#Step 2,Ha - There is a relationship between OVERALL AND SINAGE\n",
    "#Step 3, CI - 95% p - 0.05\n",
    "#Step 4, Perform the test, - CHI square(because we have to show relationship between 2 categorical variables)\n",
    "observed =pd.crosstab(index=films.Overall,columns=(films.Sinage))\n",
    "observed\n",
    "stats.chi2_contingency(observed)"
   ]
  },
  {
   "cell_type": "code",
   "execution_count": 52,
   "id": "afaf8d54",
   "metadata": {
    "execution": {
     "iopub.execute_input": "2023-03-29T04:24:22.662884Z",
     "iopub.status.busy": "2023-03-29T04:24:22.662498Z",
     "iopub.status.idle": "2023-03-29T04:24:22.666526Z",
     "shell.execute_reply": "2023-03-29T04:24:22.665693Z"
    },
    "papermill": {
     "duration": 0.030649,
     "end_time": "2023-03-29T04:24:22.668962",
     "exception": false,
     "start_time": "2023-03-29T04:24:22.638313",
     "status": "completed"
    },
    "tags": []
   },
   "outputs": [],
   "source": [
    "# CONCLUSION : SINCE, INITIAL P-VALUE(0.05)> NEW P- VALUE( 1.4397985934919274e-13)\n",
    "#therefore, we'll REJECT Ho.\n",
    "# There is a relationship between OVERALL AND SINAGE."
   ]
  },
  {
   "cell_type": "markdown",
   "id": "b19a1279",
   "metadata": {
    "papermill": {
     "duration": 0.02238,
     "end_time": "2023-03-29T04:24:22.713881",
     "exception": false,
     "start_time": "2023-03-29T04:24:22.691501",
     "status": "completed"
    },
    "tags": []
   },
   "source": [
    "***---Chi_square shows that there is strong releanship between OVERALL and ALL OF THEM (PARKING, CLEAN, SINAGE), which affecting the overall satisfaction level.***"
   ]
  },
  {
   "cell_type": "markdown",
   "id": "5e62c058",
   "metadata": {
    "papermill": {
     "duration": 0.022395,
     "end_time": "2023-03-29T04:24:22.759082",
     "exception": false,
     "start_time": "2023-03-29T04:24:22.736687",
     "status": "completed"
    },
    "tags": []
   },
   "source": [
    "### Q3, What is the demographic profile of Film on the Rocks patrons?"
   ]
  },
  {
   "cell_type": "markdown",
   "id": "909fba46",
   "metadata": {
    "papermill": {
     "duration": 0.022339,
     "end_time": "2023-03-29T04:24:22.803915",
     "exception": false,
     "start_time": "2023-03-29T04:24:22.781576",
     "status": "completed"
    },
    "tags": []
   },
   "source": [
    "### Ans,"
   ]
  },
  {
   "cell_type": "code",
   "execution_count": 53,
   "id": "e026dad0",
   "metadata": {
    "execution": {
     "iopub.execute_input": "2023-03-29T04:24:22.850830Z",
     "iopub.status.busy": "2023-03-29T04:24:22.850428Z",
     "iopub.status.idle": "2023-03-29T04:24:22.864622Z",
     "shell.execute_reply": "2023-03-29T04:24:22.863626Z"
    },
    "papermill": {
     "duration": 0.040284,
     "end_time": "2023-03-29T04:24:22.867182",
     "exception": false,
     "start_time": "2023-03-29T04:24:22.826898",
     "status": "completed"
    },
    "tags": []
   },
   "outputs": [
    {
     "data": {
      "text/html": [
       "<div>\n",
       "<style scoped>\n",
       "    .dataframe tbody tr th:only-of-type {\n",
       "        vertical-align: middle;\n",
       "    }\n",
       "\n",
       "    .dataframe tbody tr th {\n",
       "        vertical-align: top;\n",
       "    }\n",
       "\n",
       "    .dataframe thead th {\n",
       "        text-align: right;\n",
       "    }\n",
       "</style>\n",
       "<table border=\"1\" class=\"dataframe\">\n",
       "  <thead>\n",
       "    <tr style=\"text-align: right;\">\n",
       "      <th></th>\n",
       "      <th>_rowstate_</th>\n",
       "      <th>Movie</th>\n",
       "      <th>Gender</th>\n",
       "      <th>Marital_Status</th>\n",
       "      <th>Sinage</th>\n",
       "      <th>Parking</th>\n",
       "      <th>Clean</th>\n",
       "      <th>Overall</th>\n",
       "      <th>Age</th>\n",
       "      <th>Income</th>\n",
       "      <th>Hear_About</th>\n",
       "    </tr>\n",
       "  </thead>\n",
       "  <tbody>\n",
       "    <tr>\n",
       "      <th>0</th>\n",
       "      <td>0</td>\n",
       "      <td>Ferris Buellers Day Off</td>\n",
       "      <td>Female</td>\n",
       "      <td>Married</td>\n",
       "      <td>2.0</td>\n",
       "      <td>2.0</td>\n",
       "      <td>2.0</td>\n",
       "      <td>2.0</td>\n",
       "      <td>3.0</td>\n",
       "      <td>1.0</td>\n",
       "      <td>5</td>\n",
       "    </tr>\n",
       "    <tr>\n",
       "      <th>1</th>\n",
       "      <td>0</td>\n",
       "      <td>Ferris Buellers Day Off</td>\n",
       "      <td>Female</td>\n",
       "      <td>Single</td>\n",
       "      <td>1.0</td>\n",
       "      <td>1.0</td>\n",
       "      <td>1.0</td>\n",
       "      <td>1.0</td>\n",
       "      <td>2.0</td>\n",
       "      <td>1.0</td>\n",
       "      <td>5</td>\n",
       "    </tr>\n",
       "  </tbody>\n",
       "</table>\n",
       "</div>"
      ],
      "text/plain": [
       "   _rowstate_                    Movie  Gender Marital_Status  Sinage  \\\n",
       "0           0  Ferris Buellers Day Off  Female        Married     2.0   \n",
       "1           0  Ferris Buellers Day Off  Female         Single     1.0   \n",
       "\n",
       "   Parking  Clean  Overall  Age  Income Hear_About  \n",
       "0      2.0    2.0      2.0  3.0     1.0          5  \n",
       "1      1.0    1.0      1.0  2.0     1.0          5  "
      ]
     },
     "execution_count": 53,
     "metadata": {},
     "output_type": "execute_result"
    }
   ],
   "source": [
    "films.head(2)"
   ]
  },
  {
   "cell_type": "code",
   "execution_count": 54,
   "id": "54813044",
   "metadata": {
    "execution": {
     "iopub.execute_input": "2023-03-29T04:24:22.913094Z",
     "iopub.status.busy": "2023-03-29T04:24:22.912718Z",
     "iopub.status.idle": "2023-03-29T04:24:22.921366Z",
     "shell.execute_reply": "2023-03-29T04:24:22.920232Z"
    },
    "papermill": {
     "duration": 0.033586,
     "end_time": "2023-03-29T04:24:22.923216",
     "exception": false,
     "start_time": "2023-03-29T04:24:22.889630",
     "status": "completed"
    },
    "tags": []
   },
   "outputs": [
    {
     "data": {
      "text/plain": [
       "Gender\n",
       "Female    177\n",
       "Male      105\n",
       "Name: Overall, dtype: int64"
      ]
     },
     "execution_count": 54,
     "metadata": {},
     "output_type": "execute_result"
    }
   ],
   "source": [
    "films.groupby(films.Gender).Overall.count().sort_values(ascending=False)"
   ]
  },
  {
   "cell_type": "code",
   "execution_count": 55,
   "id": "0080faed",
   "metadata": {
    "execution": {
     "iopub.execute_input": "2023-03-29T04:24:22.971559Z",
     "iopub.status.busy": "2023-03-29T04:24:22.971164Z",
     "iopub.status.idle": "2023-03-29T04:24:22.975742Z",
     "shell.execute_reply": "2023-03-29T04:24:22.975104Z"
    },
    "papermill": {
     "duration": 0.031421,
     "end_time": "2023-03-29T04:24:22.977707",
     "exception": false,
     "start_time": "2023-03-29T04:24:22.946286",
     "status": "completed"
    },
    "tags": []
   },
   "outputs": [
    {
     "name": "stdout",
     "output_type": "stream",
     "text": [
      "62.76595744680851\n"
     ]
    }
   ],
   "source": [
    "female_percentage=(177/(177+105))*100\n",
    "print(female_percentage)"
   ]
  },
  {
   "cell_type": "code",
   "execution_count": 56,
   "id": "d94663fa",
   "metadata": {
    "execution": {
     "iopub.execute_input": "2023-03-29T04:24:23.025202Z",
     "iopub.status.busy": "2023-03-29T04:24:23.024823Z",
     "iopub.status.idle": "2023-03-29T04:24:23.034113Z",
     "shell.execute_reply": "2023-03-29T04:24:23.032958Z"
    },
    "papermill": {
     "duration": 0.035675,
     "end_time": "2023-03-29T04:24:23.035928",
     "exception": false,
     "start_time": "2023-03-29T04:24:23.000253",
     "status": "completed"
    },
    "tags": []
   },
   "outputs": [
    {
     "data": {
      "text/plain": [
       "Marital_Status\n",
       "Single     191\n",
       "Married     89\n",
       "Name: Overall, dtype: int64"
      ]
     },
     "execution_count": 56,
     "metadata": {},
     "output_type": "execute_result"
    }
   ],
   "source": [
    "films.groupby(films.Marital_Status).Overall.count().sort_values(ascending=False)"
   ]
  },
  {
   "cell_type": "code",
   "execution_count": 57,
   "id": "fb868e4d",
   "metadata": {
    "execution": {
     "iopub.execute_input": "2023-03-29T04:24:23.083405Z",
     "iopub.status.busy": "2023-03-29T04:24:23.083019Z",
     "iopub.status.idle": "2023-03-29T04:24:23.088734Z",
     "shell.execute_reply": "2023-03-29T04:24:23.087420Z"
    },
    "papermill": {
     "duration": 0.031616,
     "end_time": "2023-03-29T04:24:23.090771",
     "exception": false,
     "start_time": "2023-03-29T04:24:23.059155",
     "status": "completed"
    },
    "tags": []
   },
   "outputs": [
    {
     "name": "stdout",
     "output_type": "stream",
     "text": [
      "68.21428571428572\n"
     ]
    }
   ],
   "source": [
    "single_percentage= (191/(191+89))*100\n",
    "print(single_percentage)"
   ]
  },
  {
   "cell_type": "code",
   "execution_count": 58,
   "id": "a517a8e3",
   "metadata": {
    "execution": {
     "iopub.execute_input": "2023-03-29T04:24:23.136748Z",
     "iopub.status.busy": "2023-03-29T04:24:23.136361Z",
     "iopub.status.idle": "2023-03-29T04:24:23.147280Z",
     "shell.execute_reply": "2023-03-29T04:24:23.146190Z"
    },
    "papermill": {
     "duration": 0.036805,
     "end_time": "2023-03-29T04:24:23.149845",
     "exception": false,
     "start_time": "2023-03-29T04:24:23.113040",
     "status": "completed"
    },
    "tags": []
   },
   "outputs": [
    {
     "data": {
      "text/plain": [
       "Age\n",
       "2.0    143\n",
       "3.0    105\n",
       "1.0     22\n",
       "4.0     10\n",
       "Name: Overall, dtype: int64"
      ]
     },
     "execution_count": 58,
     "metadata": {},
     "output_type": "execute_result"
    }
   ],
   "source": [
    "#The patron’s age in years: 1= 1-12; 2 = 13-30; 3 = 31-60; 4 = 60+\n",
    "films.groupby(films.Age).Overall.count().sort_values(ascending=False)"
   ]
  },
  {
   "cell_type": "code",
   "execution_count": 59,
   "id": "d579ff3a",
   "metadata": {
    "execution": {
     "iopub.execute_input": "2023-03-29T04:24:23.197512Z",
     "iopub.status.busy": "2023-03-29T04:24:23.196066Z",
     "iopub.status.idle": "2023-03-29T04:24:23.205780Z",
     "shell.execute_reply": "2023-03-29T04:24:23.204772Z"
    },
    "papermill": {
     "duration": 0.034859,
     "end_time": "2023-03-29T04:24:23.207447",
     "exception": false,
     "start_time": "2023-03-29T04:24:23.172588",
     "status": "completed"
    },
    "tags": []
   },
   "outputs": [
    {
     "data": {
      "text/plain": [
       "Income\n",
       "1.0    117\n",
       "3.0     78\n",
       "2.0     74\n",
       "Name: Overall, dtype: int64"
      ]
     },
     "execution_count": 59,
     "metadata": {},
     "output_type": "execute_result"
    }
   ],
   "source": [
    "# The patron’s annual household income: 1 = Less than $50,000; 2 = $50- $100,000; 3 = $100,000+\n",
    "films.groupby(films.Income).Overall.count().sort_values(ascending=False)"
   ]
  },
  {
   "cell_type": "markdown",
   "id": "1a6089f8",
   "metadata": {
    "papermill": {
     "duration": 0.0227,
     "end_time": "2023-03-29T04:24:23.252622",
     "exception": false,
     "start_time": "2023-03-29T04:24:23.229922",
     "status": "completed"
    },
    "tags": []
   },
   "source": [
    "#### the demographic profile of Film on the Rocks patrons are:\n",
    "**1. There are 62.7% of FEMALES profiles of Film on the Rocks patrons**\n",
    "\n",
    "**2. There are 68.2% of SINGLE profiles of Film on the Rocks patrons**\n",
    "\n",
    "**3. Most people are from Age group 2.0 i.e.(13-30) in the profiles of Film on the Rocks patrons**\n",
    "\n",
    "**4. Most people have income group of 1.0 i.e.(LESS THAN 50,000) in the profiles of Film on the Rocks patrons**"
   ]
  },
  {
   "cell_type": "markdown",
   "id": "3658524e",
   "metadata": {
    "papermill": {
     "duration": 0.02303,
     "end_time": "2023-03-29T04:24:23.299630",
     "exception": false,
     "start_time": "2023-03-29T04:24:23.276600",
     "status": "completed"
    },
    "tags": []
   },
   "source": [
    "### Q4, In what media outlet(s) should the film series be advertised?"
   ]
  },
  {
   "cell_type": "code",
   "execution_count": 60,
   "id": "ccd93dc4",
   "metadata": {
    "execution": {
     "iopub.execute_input": "2023-03-29T04:24:23.348948Z",
     "iopub.status.busy": "2023-03-29T04:24:23.347685Z",
     "iopub.status.idle": "2023-03-29T04:24:23.356053Z",
     "shell.execute_reply": "2023-03-29T04:24:23.354884Z"
    },
    "papermill": {
     "duration": 0.035039,
     "end_time": "2023-03-29T04:24:23.357979",
     "exception": false,
     "start_time": "2023-03-29T04:24:23.322940",
     "status": "completed"
    },
    "tags": []
   },
   "outputs": [
    {
     "data": {
      "text/plain": [
       "Hear_About\n",
       "1       22\n",
       "1,5      1\n",
       "2       12\n",
       "2,5      2\n",
       "3       12\n",
       "3,4      2\n",
       "3,5      1\n",
       "4       38\n",
       "4,5      1\n",
       "5      185\n",
       "5,4      1\n",
       "Name: Hear_About, dtype: int64"
      ]
     },
     "execution_count": 60,
     "metadata": {},
     "output_type": "execute_result"
    }
   ],
   "source": [
    "films.groupby(films.Hear_About).Hear_About.count()"
   ]
  },
  {
   "cell_type": "code",
   "execution_count": 61,
   "id": "4f5bff42",
   "metadata": {
    "execution": {
     "iopub.execute_input": "2023-03-29T04:24:23.407558Z",
     "iopub.status.busy": "2023-03-29T04:24:23.406595Z",
     "iopub.status.idle": "2023-03-29T04:24:23.413420Z",
     "shell.execute_reply": "2023-03-29T04:24:23.412619Z"
    },
    "papermill": {
     "duration": 0.033704,
     "end_time": "2023-03-29T04:24:23.415210",
     "exception": false,
     "start_time": "2023-03-29T04:24:23.381506",
     "status": "completed"
    },
    "tags": []
   },
   "outputs": [],
   "source": [
    "# As maximum of them have 5 to we'll replce all of them to 5 before changing them to float  datatype \n",
    "films.Hear_About.replace({'1,5':'5','2,5':'5', '3,4':'5','3,5':'5', '4,5':'5','5,4':'5'}, inplace=True)"
   ]
  },
  {
   "cell_type": "code",
   "execution_count": 62,
   "id": "eae81e26",
   "metadata": {
    "execution": {
     "iopub.execute_input": "2023-03-29T04:24:23.464483Z",
     "iopub.status.busy": "2023-03-29T04:24:23.463276Z",
     "iopub.status.idle": "2023-03-29T04:24:23.468771Z",
     "shell.execute_reply": "2023-03-29T04:24:23.467844Z"
    },
    "papermill": {
     "duration": 0.031979,
     "end_time": "2023-03-29T04:24:23.470653",
     "exception": false,
     "start_time": "2023-03-29T04:24:23.438674",
     "status": "completed"
    },
    "tags": []
   },
   "outputs": [],
   "source": [
    "#now changing them to float datatype\n",
    "films.Hear_About=films.Hear_About.astype(\"float64\")"
   ]
  },
  {
   "cell_type": "code",
   "execution_count": 63,
   "id": "91c65579",
   "metadata": {
    "execution": {
     "iopub.execute_input": "2023-03-29T04:24:23.520177Z",
     "iopub.status.busy": "2023-03-29T04:24:23.518858Z",
     "iopub.status.idle": "2023-03-29T04:24:23.528865Z",
     "shell.execute_reply": "2023-03-29T04:24:23.527693Z"
    },
    "papermill": {
     "duration": 0.036958,
     "end_time": "2023-03-29T04:24:23.530944",
     "exception": false,
     "start_time": "2023-03-29T04:24:23.493986",
     "status": "completed"
    },
    "tags": []
   },
   "outputs": [
    {
     "data": {
      "text/plain": [
       "Hear_About\n",
       "5.0    193\n",
       "4.0     38\n",
       "1.0     22\n",
       "2.0     12\n",
       "3.0     12\n",
       "Name: Hear_About, dtype: int64"
      ]
     },
     "execution_count": 63,
     "metadata": {},
     "output_type": "execute_result"
    }
   ],
   "source": [
    "films.groupby(films.Hear_About).Hear_About.count().sort_values(ascending= False)"
   ]
  },
  {
   "cell_type": "code",
   "execution_count": 64,
   "id": "8bd7276d",
   "metadata": {
    "execution": {
     "iopub.execute_input": "2023-03-29T04:24:23.578313Z",
     "iopub.status.busy": "2023-03-29T04:24:23.577951Z",
     "iopub.status.idle": "2023-03-29T04:24:23.778975Z",
     "shell.execute_reply": "2023-03-29T04:24:23.777374Z"
    },
    "papermill": {
     "duration": 0.227424,
     "end_time": "2023-03-29T04:24:23.781303",
     "exception": false,
     "start_time": "2023-03-29T04:24:23.553879",
     "status": "completed"
    },
    "tags": []
   },
   "outputs": [
    {
     "data": {
      "text/plain": [
       "<AxesSubplot:xlabel='Hear_About', ylabel='Count'>"
      ]
     },
     "execution_count": 64,
     "metadata": {},
     "output_type": "execute_result"
    },
    {
     "data": {
      "image/png": "[encoded data removed]",
      "text/plain": [
       "<Figure size 432x288 with 1 Axes>"
      ]
     },
     "metadata": {
      "needs_background": "light"
     },
     "output_type": "display_data"
    }
   ],
   "source": [
    "sns.histplot(films.Hear_About)"
   ]
  },
  {
   "cell_type": "markdown",
   "id": "9d32141e",
   "metadata": {
    "papermill": {
     "duration": 0.023114,
     "end_time": "2023-03-29T04:24:23.827915",
     "exception": false,
     "start_time": "2023-03-29T04:24:23.804801",
     "status": "completed"
    },
    "tags": []
   },
   "source": [
    "#### here, we know that 1 = television; 2 = newspaper; 3 = radio; 4 = website; 5 = word of mouth\n",
    "#### since , **word of mouth** as 5.0 is highest one but it does not come under media outlet\n",
    "### So, we'll go with the second one which is **4.0** i.e. ***WEBSITE***\n",
    "* ***Therefore, film series should be advertised mainly in WEBSITE media outlet.***"
   ]
  },
  {
   "cell_type": "code",
   "execution_count": null,
   "id": "34032c08",
   "metadata": {
    "papermill": {
     "duration": 0.022474,
     "end_time": "2023-03-29T04:24:23.873699",
     "exception": false,
     "start_time": "2023-03-29T04:24:23.851225",
     "status": "completed"
    },
    "tags": []
   },
   "outputs": [],
   "source": []
  }
 ],
 "metadata": {
  "kernelspec": {
   "display_name": "Python 3",
   "language": "python",
   "name": "python3"
  },
  "language_info": {
   "codemirror_mode": {
    "name": "ipython",
    "version": 3
   },
   "file_extension": ".py",
   "mimetype": "text/x-python",
   "name": "python",
   "nbconvert_exporter": "python",
   "pygments_lexer": "ipython3",
   "version": "3.7.12"
  },
  "papermill": {
   "default_parameters": {},
   "duration": 16.270818,
   "end_time": "2023-03-29T04:24:24.617892",
   "environment_variables": {},
   "exception": null,
   "input_path": "__notebook__.ipynb",
   "output_path": "__notebook__.ipynb",
   "parameters": {},
   "start_time": "2023-03-29T04:24:08.347074",
   "version": "2.3.4"
  }
 },
 "nbformat": 4,
 "nbformat_minor": 5
}
